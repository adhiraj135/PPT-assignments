{
 "cells": [
  {
   "cell_type": "markdown",
   "id": "0069c518",
   "metadata": {},
   "source": [
    "Q1. Given an array of integers nums and an integer target, return indices of the two numbers such that they add up to target.\n",
    "\n",
    "You may assume that each input would have exactly one solution, and you may not use the same element twice.\n",
    "\n"
   ]
  },
  {
   "cell_type": "code",
   "execution_count": 34,
   "id": "4221e6d8",
   "metadata": {},
   "outputs": [],
   "source": [
    "def sum_in_list(l,target):\n",
    "    output=[]\n",
    "    for i in l:\n",
    "        for j in l:\n",
    "            if i+j==target:\n",
    "                output.append(l.index(i))\n",
    "                output.append(l.index(j))\n",
    "        return output\n"
   ]
  },
  {
   "cell_type": "code",
   "execution_count": 35,
   "id": "7bea5f34",
   "metadata": {},
   "outputs": [
    {
     "data": {
      "text/plain": [
       "[0, 2]"
      ]
     },
     "execution_count": 35,
     "metadata": {},
     "output_type": "execute_result"
    }
   ],
   "source": [
    "sum_in_list([2,4,5,2,8],7)"
   ]
  },
  {
   "cell_type": "markdown",
   "id": "dbb55527",
   "metadata": {},
   "source": [
    "Q2.Given an integer array nums and an integer val, remove all occurrences of val in nums in-place. The order of the elements may be changed. Then return the number of elements in nums which are not equal to val.\n",
    "\n",
    "Consider the number of elements in nums which are not equal to val be k, to get accepted, you need to do the following things:\n",
    "\n",
    "- Change the array nums such that the first k elements of nums contain the elements which are not equal to val. The remaining elements of nums are not important as well as the size of nums.\n",
    "- Return k"
   ]
  },
  {
   "cell_type": "code",
   "execution_count": 36,
   "id": "732759da",
   "metadata": {},
   "outputs": [],
   "source": [
    "def replace_value(l,value):\n",
    "    output=[]\n",
    "    for i in l:\n",
    "        if i!=value:\n",
    "            output.append(i)\n",
    "    return output"
   ]
  },
  {
   "cell_type": "code",
   "execution_count": 38,
   "id": "25672d77",
   "metadata": {},
   "outputs": [
    {
     "data": {
      "text/plain": [
       "[2, 2]"
      ]
     },
     "execution_count": 38,
     "metadata": {},
     "output_type": "execute_result"
    }
   ],
   "source": [
    "replace_value([3,2,2,3],3)"
   ]
  },
  {
   "cell_type": "code",
   "execution_count": 39,
   "id": "a090933f",
   "metadata": {},
   "outputs": [
    {
     "data": {
      "text/plain": [
       "[1, 2, 2, 4, 5, 4, 2, 9, 7, 8]"
      ]
     },
     "execution_count": 39,
     "metadata": {},
     "output_type": "execute_result"
    }
   ],
   "source": [
    "replace_value([1,2,2,3,4,5,3,4,2,9,7,8],3)"
   ]
  },
  {
   "cell_type": "markdown",
   "id": "be27f498",
   "metadata": {},
   "source": [
    "Q3. Given a sorted array of distinct integers and a target value, return the index if the target is found. If not, return the index where it would be if it were inserted in order."
   ]
  },
  {
   "cell_type": "code",
   "execution_count": 49,
   "id": "1bac9c16",
   "metadata": {},
   "outputs": [],
   "source": [
    "def index_of_target(l,target):\n",
    "    if target not in l:\n",
    "        l.append(target)\n",
    "    return sorted(l).index(target) \n",
    "        "
   ]
  },
  {
   "cell_type": "code",
   "execution_count": 53,
   "id": "44ba71db",
   "metadata": {},
   "outputs": [
    {
     "data": {
      "text/plain": [
       "3"
      ]
     },
     "execution_count": 53,
     "metadata": {},
     "output_type": "execute_result"
    }
   ],
   "source": [
    "index_of_target([3,5,1,9,2],5)"
   ]
  },
  {
   "cell_type": "code",
   "execution_count": 59,
   "id": "38d2ce3d",
   "metadata": {},
   "outputs": [
    {
     "data": {
      "text/plain": [
       "4"
      ]
     },
     "execution_count": 59,
     "metadata": {},
     "output_type": "execute_result"
    }
   ],
   "source": [
    "index_of_target([3,5,1,9,2],8)"
   ]
  },
  {
   "cell_type": "markdown",
   "id": "3d8d4c15",
   "metadata": {},
   "source": [
    "Q4 You are given a large integer represented as an integer array digits, where each digits[i] is the ith digit of the integer. The digits are ordered from most significant to least significant in left-to-right order. The large integer does not contain any leading 0's.\n",
    "\n",
    "Increment the large integer by one and return the resulting array of digits.\n",
    "\n"
   ]
  },
  {
   "cell_type": "code",
   "execution_count": 74,
   "id": "72b86574",
   "metadata": {},
   "outputs": [],
   "source": [
    "def increament_largest_array(l):\n",
    "    for i in range(len(l)):\n",
    "        if l[i]==max(l):\n",
    "            l[i]=max(l)+1\n",
    "    return sorted(l)"
   ]
  },
  {
   "cell_type": "code",
   "execution_count": 76,
   "id": "e573b65a",
   "metadata": {},
   "outputs": [
    {
     "data": {
      "text/plain": [
       "[1, 2, 3, 4, 5, 5, 6, 11]"
      ]
     },
     "execution_count": 76,
     "metadata": {},
     "output_type": "execute_result"
    }
   ],
   "source": [
    "increament_largest_array([1,2,3,4,5,6,5,10])"
   ]
  },
  {
   "cell_type": "markdown",
   "id": "fddd506d",
   "metadata": {},
   "source": [
    "Q5.You are given two integer arrays nums1 and nums2, sorted in non-decreasing order, and two integers m and n, representing the number of elements in nums1 and nums2 respectively.\n",
    "\n",
    "Merge nums1 and nums2 into a single array sorted in non-decreasing order.\n",
    "\n",
    "The final sorted array should not be returned by the function, but instead be stored inside the array nums1. To accommodate this, nums1 has a length of m + n, where the first m elements denote the elements that should be merged, and the last n elements are set to 0 and should be ignored. nums2 has a length of n.\n"
   ]
  },
  {
   "cell_type": "code",
   "execution_count": 79,
   "id": "b641ff9f",
   "metadata": {},
   "outputs": [
    {
     "data": {
      "text/plain": [
       "[1, 2, 3]"
      ]
     },
     "execution_count": 79,
     "metadata": {},
     "output_type": "execute_result"
    }
   ],
   "source": [
    "q[0:3]"
   ]
  },
  {
   "cell_type": "code",
   "execution_count": 86,
   "id": "c624d46e",
   "metadata": {},
   "outputs": [],
   "source": [
    "def merge_2_list(l1,m,l2,n):\n",
    "    l=[]\n",
    "    for i in range(m):\n",
    "        l.append(sorted(l1)[i])\n",
    "    for j in range(n):\n",
    "        l.append(sorted(l2)[j])\n",
    "    return l\n",
    "        \n"
   ]
  },
  {
   "cell_type": "code",
   "execution_count": 87,
   "id": "c00bd35f",
   "metadata": {},
   "outputs": [
    {
     "data": {
      "text/plain": [
       "[1, 3, 5, 2, 4, 32]"
      ]
     },
     "execution_count": 87,
     "metadata": {},
     "output_type": "execute_result"
    }
   ],
   "source": [
    "merge_2_list([1,5,31,34,3],3,[4,2,76,32],3)"
   ]
  },
  {
   "cell_type": "markdown",
   "id": "ac3b78a4",
   "metadata": {},
   "source": [
    "Q6. Given an integer array nums, return true if any value appears at least twice in the array, and return false if every element is distinct."
   ]
  },
  {
   "cell_type": "code",
   "execution_count": 92,
   "id": "7c89ded3",
   "metadata": {},
   "outputs": [],
   "source": [
    "def is_unique_array(l):\n",
    "    for i in l:\n",
    "        if l.count(i)==1:\n",
    "            pass\n",
    "        else:\n",
    "            return False\n",
    "    return True\n",
    "    \n"
   ]
  },
  {
   "cell_type": "code",
   "execution_count": 96,
   "id": "da85bf3a",
   "metadata": {},
   "outputs": [
    {
     "data": {
      "text/plain": [
       "True"
      ]
     },
     "execution_count": 96,
     "metadata": {},
     "output_type": "execute_result"
    }
   ],
   "source": [
    "is_unique_array([1,2,3,4,5,6])"
   ]
  },
  {
   "cell_type": "code",
   "execution_count": 97,
   "id": "3ec54816",
   "metadata": {},
   "outputs": [
    {
     "data": {
      "text/plain": [
       "False"
      ]
     },
     "execution_count": 97,
     "metadata": {},
     "output_type": "execute_result"
    }
   ],
   "source": [
    "is_unique_array([1,2,2,3,4,5,6])"
   ]
  },
  {
   "cell_type": "markdown",
   "id": "4a5584b0",
   "metadata": {},
   "source": [
    "Q7. Given an integer array nums, move all 0's to the end of it while maintaining the relative order of the nonzero elements."
   ]
  },
  {
   "cell_type": "code",
   "execution_count": 98,
   "id": "46521bbc",
   "metadata": {},
   "outputs": [],
   "source": [
    "def move_0_at_end(l):\n",
    "    for i in l:\n",
    "        if i==0:\n",
    "            l.remove(i)\n",
    "            l.append(i)\n",
    "    return l"
   ]
  },
  {
   "cell_type": "code",
   "execution_count": 99,
   "id": "7b19a2f9",
   "metadata": {},
   "outputs": [
    {
     "data": {
      "text/plain": [
       "[1, 2, 3, 45, 42, 0, 0, 0]"
      ]
     },
     "execution_count": 99,
     "metadata": {},
     "output_type": "execute_result"
    }
   ],
   "source": [
    "move_0_at_end([1,2,3,0,0,45,0,42])"
   ]
  },
  {
   "cell_type": "markdown",
   "id": "0f370683",
   "metadata": {},
   "source": [
    "Q8. You have a set of integers s, which originally contains all the numbers from 1 to n. Unfortunately, due to some error, one of the numbers in s got duplicated to another number in the set, which results in repetition of one number and loss of another number.\n",
    "\n",
    "You are given an integer array nums representing the data status of this set after the error.\n",
    "\n",
    "Find the number that occurs twice and the number that is missing and return them in the form of an array.\n"
   ]
  },
  {
   "cell_type": "code",
   "execution_count": 100,
   "id": "0d596a1e",
   "metadata": {},
   "outputs": [],
   "source": [
    "def twice_occuring_and_missing(n,l):\n",
    "    output=[]\n",
    "    for i in range(1,n+1):\n",
    "        if l.count(i)==2:\n",
    "            output.append(i)\n",
    "    for i in range(1,n+1):\n",
    "        if i not in l:\n",
    "            output.append(i)\n",
    "            \n",
    "    return output"
   ]
  },
  {
   "cell_type": "code",
   "execution_count": 101,
   "id": "9d4a9a15",
   "metadata": {},
   "outputs": [
    {
     "data": {
      "text/plain": [
       "[4, 8, 3, 5, 7, 10]"
      ]
     },
     "execution_count": 101,
     "metadata": {},
     "output_type": "execute_result"
    }
   ],
   "source": [
    "twice_occuring_and_missing(10,[1,2,4,4,6,8,8,9])"
   ]
  },
  {
   "cell_type": "code",
   "execution_count": null,
   "id": "d3413f43",
   "metadata": {},
   "outputs": [],
   "source": []
  }
 ],
 "metadata": {
  "kernelspec": {
   "display_name": "Python 3 (ipykernel)",
   "language": "python",
   "name": "python3"
  },
  "language_info": {
   "codemirror_mode": {
    "name": "ipython",
    "version": 3
   },
   "file_extension": ".py",
   "mimetype": "text/x-python",
   "name": "python",
   "nbconvert_exporter": "python",
   "pygments_lexer": "ipython3",
   "version": "3.9.12"
  }
 },
 "nbformat": 4,
 "nbformat_minor": 5
}

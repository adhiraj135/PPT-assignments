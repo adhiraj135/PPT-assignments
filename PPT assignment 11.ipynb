{
 "cells": [
  {
   "cell_type": "markdown",
   "id": "2cf89dc1",
   "metadata": {},
   "source": [
    "<aside>\n",
    "💡 **Question 1**\n",
    "\n",
    "Given a non-negative integer `x`, return *the square root of* `x` *rounded down to the nearest integer*. The returned integer should be **non-negative** as well.\n",
    "\n",
    "You **must not use** any built-in exponent function or operator.\n",
    "\n",
    "- For example, do not use `pow(x, 0.5)` in c++ or `x ** 0.5` in python.\n",
    "</aside>"
   ]
  },
  {
   "cell_type": "code",
   "execution_count": 4,
   "id": "f25038ab",
   "metadata": {},
   "outputs": [],
   "source": [
    "def square_root(x):\n",
    "     if x == 0:\n",
    "        return 0\n",
    "\n",
    "     left = 1\n",
    "     right = x\n",
    "\n",
    "     while left <= right:\n",
    "        mid = left + (right - left) // 2\n",
    "        if mid * mid == x:\n",
    "            return mid\n",
    "        elif mid * mid < x:\n",
    "            left = mid + 1\n",
    "        else:\n",
    "            right = mid - 1\n",
    "\n",
    "     return right \n",
    "        "
   ]
  },
  {
   "cell_type": "code",
   "execution_count": 5,
   "id": "5b9a2a28",
   "metadata": {},
   "outputs": [
    {
     "data": {
      "text/plain": [
       "2"
      ]
     },
     "execution_count": 5,
     "metadata": {},
     "output_type": "execute_result"
    }
   ],
   "source": [
    "square_root(8)"
   ]
  },
  {
   "cell_type": "code",
   "execution_count": 6,
   "id": "d889e314",
   "metadata": {},
   "outputs": [
    {
     "data": {
      "text/plain": [
       "1"
      ]
     },
     "execution_count": 6,
     "metadata": {},
     "output_type": "execute_result"
    }
   ],
   "source": [
    "square_root(2)"
   ]
  },
  {
   "cell_type": "markdown",
   "id": "eff412f2",
   "metadata": {},
   "source": [
    "<aside>\n",
    "💡 **Question 2**\n",
    "\n",
    "A peak element is an element that is strictly greater than its neighbors.\n",
    "\n",
    "Given a **0-indexed** integer array `nums`, find a peak element, and return its index. If the array contains multiple peaks, return the index to **any of the peaks**.\n",
    "\n",
    "You may imagine that `nums[-1] = nums[n] = -∞`. In other words, an element is always considered to be strictly greater than a neighbor that is outside the array.\n",
    "\n",
    "</aside>"
   ]
  },
  {
   "cell_type": "code",
   "execution_count": 8,
   "id": "367a695d",
   "metadata": {},
   "outputs": [],
   "source": [
    "def index_of_max(nums):\n",
    "    return nums.index(max(nums))"
   ]
  },
  {
   "cell_type": "code",
   "execution_count": 9,
   "id": "d0e24465",
   "metadata": {},
   "outputs": [
    {
     "data": {
      "text/plain": [
       "2"
      ]
     },
     "execution_count": 9,
     "metadata": {},
     "output_type": "execute_result"
    }
   ],
   "source": [
    "index_of_max([1,2,3,1])"
   ]
  },
  {
   "cell_type": "code",
   "execution_count": 10,
   "id": "8f8bc705",
   "metadata": {},
   "outputs": [
    {
     "data": {
      "text/plain": [
       "5"
      ]
     },
     "execution_count": 10,
     "metadata": {},
     "output_type": "execute_result"
    }
   ],
   "source": [
    "index_of_max([1,2,1,3,5,6,4])"
   ]
  },
  {
   "cell_type": "markdown",
   "id": "ecab4579",
   "metadata": {},
   "source": [
    "<aside>\n",
    "💡 **Question 3**\n",
    "\n",
    "****\n",
    "\n",
    "Given an array `nums` containing `n` distinct numbers in the range `[0, n]`, return *the only number in the range that is missing from the array.*\n",
    "\n",
    "</aside>"
   ]
  },
  {
   "cell_type": "code",
   "execution_count": 11,
   "id": "b323de3a",
   "metadata": {},
   "outputs": [],
   "source": [
    "def missing_value_in_range(l):\n",
    "    l=set(l)\n",
    "    for i in range(0,len(l)+1):\n",
    "        if i not in l:\n",
    "            print(i)"
   ]
  },
  {
   "cell_type": "code",
   "execution_count": 12,
   "id": "04445cbf",
   "metadata": {},
   "outputs": [
    {
     "name": "stdout",
     "output_type": "stream",
     "text": [
      "2\n"
     ]
    }
   ],
   "source": [
    "missing_value_in_range([3,0,1])"
   ]
  },
  {
   "cell_type": "code",
   "execution_count": 13,
   "id": "7292ed3a",
   "metadata": {},
   "outputs": [
    {
     "name": "stdout",
     "output_type": "stream",
     "text": [
      "2\n"
     ]
    }
   ],
   "source": [
    "missing_value_in_range([0,1])"
   ]
  },
  {
   "cell_type": "code",
   "execution_count": 14,
   "id": "d4604d16",
   "metadata": {},
   "outputs": [
    {
     "name": "stdout",
     "output_type": "stream",
     "text": [
      "8\n"
     ]
    }
   ],
   "source": [
    "missing_value_in_range([9,6,4,2,3,5,7,0,1])"
   ]
  },
  {
   "cell_type": "markdown",
   "id": "66332394",
   "metadata": {},
   "source": [
    "<aside>\n",
    "💡 **Question 4**\n",
    "\n",
    "Given an array of integers `nums` containing `n + 1` integers where each integer is in the range `[1, n]` inclusive.\n",
    "\n",
    "There is only **one repeated number** in `nums`, return *this repeated number*.\n",
    "\n",
    "You must solve the problem **without** modifying the array `nums` and uses only constant extra space.\n",
    "\n",
    "</aside>"
   ]
  },
  {
   "cell_type": "code",
   "execution_count": 30,
   "id": "fd956713",
   "metadata": {},
   "outputs": [],
   "source": [
    "def value_with_count_more_than_1(l):\n",
    "    for i in l:\n",
    "        if l.count(i)>1:\n",
    "            return i\n",
    "    "
   ]
  },
  {
   "cell_type": "code",
   "execution_count": 31,
   "id": "b0ce8bc7",
   "metadata": {},
   "outputs": [
    {
     "data": {
      "text/plain": [
       "2"
      ]
     },
     "execution_count": 31,
     "metadata": {},
     "output_type": "execute_result"
    }
   ],
   "source": [
    "value_with_count_more_than_1([1,2,3,4,2])"
   ]
  },
  {
   "cell_type": "code",
   "execution_count": 32,
   "id": "1ac05250",
   "metadata": {},
   "outputs": [
    {
     "data": {
      "text/plain": [
       "3"
      ]
     },
     "execution_count": 32,
     "metadata": {},
     "output_type": "execute_result"
    }
   ],
   "source": [
    "value_with_count_more_than_1([3,1,3,4,2])"
   ]
  },
  {
   "cell_type": "markdown",
   "id": "38acf438",
   "metadata": {},
   "source": [
    "<aside>\n",
    "💡 **Question 5**\n",
    "\n",
    "Given two integer arrays `nums1` and `nums2`, return *an array of their intersection*. Each element in the result must be **unique** and you may return the result in **any order**.\n",
    "\n",
    "</aside>"
   ]
  },
  {
   "cell_type": "code",
   "execution_count": 36,
   "id": "9ae5a91b",
   "metadata": {},
   "outputs": [],
   "source": [
    "def intersection_of_2_list(nums1,nums2):\n",
    "    l=[]\n",
    "    for i in set(nums1):\n",
    "        if i in nums2:\n",
    "            l.append(i)\n",
    "    return l\n",
    "            "
   ]
  },
  {
   "cell_type": "code",
   "execution_count": 37,
   "id": "5003a6f1",
   "metadata": {},
   "outputs": [
    {
     "data": {
      "text/plain": [
       "[2]"
      ]
     },
     "execution_count": 37,
     "metadata": {},
     "output_type": "execute_result"
    }
   ],
   "source": [
    "intersection_of_2_list(nums1 = [1,2,2,1], nums2 = [2,2])"
   ]
  },
  {
   "cell_type": "code",
   "execution_count": 38,
   "id": "c0ea005e",
   "metadata": {},
   "outputs": [
    {
     "data": {
      "text/plain": [
       "[9, 4]"
      ]
     },
     "execution_count": 38,
     "metadata": {},
     "output_type": "execute_result"
    }
   ],
   "source": [
    "intersection_of_2_list( nums1 = [4,9,5], nums2 = [9,4,9,8,4])"
   ]
  },
  {
   "cell_type": "markdown",
   "id": "cdaae18a",
   "metadata": {},
   "source": [
    "<aside>\n",
    "💡 **Question 6**\n",
    "\n",
    "Suppose an array of length `n` sorted in ascending order is **rotated** between `1` and `n` times. For example, the array `nums = [0,1,2,4,5,6,7]` might become:\n",
    "\n",
    "- `[4,5,6,7,0,1,2]` if it was rotated `4` times.\n",
    "- `[0,1,2,4,5,6,7]` if it was rotated `7` times.\n",
    "\n",
    "Notice that **rotating** an array `[a[0], a[1], a[2], ..., a[n-1]]` 1 time results in the array `[a[n-1], a[0], a[1], a[2], ..., a[n-2]]`.\n",
    "\n",
    "Given the sorted rotated array `nums` of **unique** elements, return *the minimum element of this array*.\n",
    "\n",
    "You must write an algorithm that runs in `O(log n) time.`\n",
    "\n",
    "</aside>"
   ]
  },
  {
   "cell_type": "code",
   "execution_count": 44,
   "id": "6e016447",
   "metadata": {},
   "outputs": [],
   "source": [
    "def min_and_rotated(nums):\n",
    "    n=sorted(nums)\n",
    "    if nums.index(min(nums))==0:\n",
    "        return f\"the minimum number is  {min(n)} and nums is rotated {len(nums)} times to get original array\"\n",
    "    else:\n",
    "        return f\"the minimum number is  {min(n)} and nums is rotated {nums.index(min(nums))} times to get original array\""
   ]
  },
  {
   "cell_type": "code",
   "execution_count": 45,
   "id": "f2dc9b82",
   "metadata": {},
   "outputs": [
    {
     "data": {
      "text/plain": [
       "'the minimum number is  0 and nums is rotated 7 times to get original array'"
      ]
     },
     "execution_count": 45,
     "metadata": {},
     "output_type": "execute_result"
    }
   ],
   "source": [
    "min_and_rotated([0,1,2,4,5,6,7])"
   ]
  },
  {
   "cell_type": "code",
   "execution_count": 46,
   "id": "0191e801",
   "metadata": {},
   "outputs": [
    {
     "data": {
      "text/plain": [
       "'the minimum number is  0 and nums is rotated 4 times to get original array'"
      ]
     },
     "execution_count": 46,
     "metadata": {},
     "output_type": "execute_result"
    }
   ],
   "source": [
    "min_and_rotated([4,5,6,7,0,1,2])"
   ]
  },
  {
   "cell_type": "code",
   "execution_count": 47,
   "id": "73c2366b",
   "metadata": {},
   "outputs": [
    {
     "data": {
      "text/plain": [
       "'the minimum number is  1 and nums is rotated 3 times to get original array'"
      ]
     },
     "execution_count": 47,
     "metadata": {},
     "output_type": "execute_result"
    }
   ],
   "source": [
    "min_and_rotated(nums = [3,4,5,1,2])"
   ]
  },
  {
   "cell_type": "code",
   "execution_count": 48,
   "id": "c9cf7dd6",
   "metadata": {},
   "outputs": [
    {
     "data": {
      "text/plain": [
       "'the minimum number is  0 and nums is rotated 4 times to get original array'"
      ]
     },
     "execution_count": 48,
     "metadata": {},
     "output_type": "execute_result"
    }
   ],
   "source": [
    "min_and_rotated(nums = [4,5,6,7,0,1,2])"
   ]
  },
  {
   "cell_type": "markdown",
   "id": "298bd25b",
   "metadata": {},
   "source": [
    "<aside>\n",
    "💡 **Question 7**\n",
    "\n",
    "Given an array of integers `nums` sorted in non-decreasing order, find the starting and ending position of a given `target` value.\n",
    "\n",
    "If `target` is not found in the array, return `[-1, -1]`.\n",
    "\n",
    "</aside>"
   ]
  },
  {
   "cell_type": "code",
   "execution_count": 51,
   "id": "d2d15bac",
   "metadata": {},
   "outputs": [],
   "source": [
    "def range_of_target(nums,target):\n",
    "    l=[]\n",
    "    if target not in nums:\n",
    "        return [-1,-1]\n",
    "    else:\n",
    "        for i in range(len(nums)):\n",
    "            if nums[i]==target:\n",
    "                l.append(i)\n",
    "        return l\n",
    "        "
   ]
  },
  {
   "cell_type": "code",
   "execution_count": 52,
   "id": "060432ca",
   "metadata": {},
   "outputs": [
    {
     "data": {
      "text/plain": [
       "[3, 4]"
      ]
     },
     "execution_count": 52,
     "metadata": {},
     "output_type": "execute_result"
    }
   ],
   "source": [
    "range_of_target([5,7,7,8,8,10], target = 8)"
   ]
  },
  {
   "cell_type": "code",
   "execution_count": 53,
   "id": "03bc8190",
   "metadata": {},
   "outputs": [
    {
     "data": {
      "text/plain": [
       "[-1, -1]"
      ]
     },
     "execution_count": 53,
     "metadata": {},
     "output_type": "execute_result"
    }
   ],
   "source": [
    "range_of_target(nums = [5,7,7,8,8,10], target = 6)"
   ]
  },
  {
   "cell_type": "markdown",
   "id": "cd3063b0",
   "metadata": {},
   "source": [
    "<aside>\n",
    "💡 **Question 8**\n",
    "\n",
    "Given two integer arrays `nums1` and `nums2`, return *an array of their intersection*. Each element in the result must be **unique** and you may return the result in **any order**.\n",
    "\n",
    "</aside>"
   ]
  },
  {
   "cell_type": "code",
   "execution_count": 54,
   "id": "3e78ac4a",
   "metadata": {},
   "outputs": [
    {
     "data": {
      "text/plain": [
       "[2]"
      ]
     },
     "execution_count": 54,
     "metadata": {},
     "output_type": "execute_result"
    }
   ],
   "source": [
    "intersection_of_2_list(nums1 = [1,2,2,1], nums2 = [2,2])"
   ]
  },
  {
   "cell_type": "code",
   "execution_count": 55,
   "id": "1a350e3b",
   "metadata": {},
   "outputs": [
    {
     "data": {
      "text/plain": [
       "[9, 4]"
      ]
     },
     "execution_count": 55,
     "metadata": {},
     "output_type": "execute_result"
    }
   ],
   "source": [
    "intersection_of_2_list( nums1 = [4,9,5], nums2 = [9,4,9,8,4])\n"
   ]
  },
  {
   "cell_type": "code",
   "execution_count": null,
   "id": "8595575e",
   "metadata": {},
   "outputs": [],
   "source": []
  }
 ],
 "metadata": {
  "kernelspec": {
   "display_name": "Python 3 (ipykernel)",
   "language": "python",
   "name": "python3"
  },
  "language_info": {
   "codemirror_mode": {
    "name": "ipython",
    "version": 3
   },
   "file_extension": ".py",
   "mimetype": "text/x-python",
   "name": "python",
   "nbconvert_exporter": "python",
   "pygments_lexer": "ipython3",
   "version": "3.9.12"
  }
 },
 "nbformat": 4,
 "nbformat_minor": 5
}

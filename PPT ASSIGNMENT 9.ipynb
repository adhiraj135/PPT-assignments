{
 "cells": [
  {
   "cell_type": "markdown",
   "id": "95fb204b",
   "metadata": {},
   "source": [
    "<aside>\n",
    "💡 **Question 1**\n",
    "\n",
    "Given an integer `n`, return *`true` if it is a power of two. Otherwise, return `false`*.\n",
    "\n",
    "An integer `n` is a power of two, if there exists an integer `x` such that `n == 2x`.\n",
    "\n",
    "**Example 1:**\n",
    "Input: n = 1 \n",
    "\n",
    "Output: true\n",
    "\n",
    "**Example 2:**\n",
    "Input: n = 16 \n",
    "\n",
    "Output: true\n",
    "\n",
    "**Example 3:**\n",
    "Input: n = 3 \n",
    "\n",
    "Output: false\n",
    "\n",
    "</aside>"
   ]
  },
  {
   "cell_type": "code",
   "execution_count": 17,
   "id": "9187ee55",
   "metadata": {},
   "outputs": [],
   "source": [
    "def is_power_2(n):\n",
    "    l=[]\n",
    "    for i in range(1,n):\n",
    "        if i**2==n:\n",
    "            l.append(i)\n",
    "    if len(l)==1:\n",
    "        return True\n",
    "    \n",
    "    "
   ]
  },
  {
   "cell_type": "code",
   "execution_count": 18,
   "id": "275de53b",
   "metadata": {},
   "outputs": [],
   "source": [
    "def is_power_2(n):\n",
    "    if n == 1:\n",
    "        return True\n",
    "    elif n % 2 != 0 or n == 0:\n",
    "        return False\n",
    "    else:\n",
    "        return is_power_of_two(n // 2)\n",
    "\n",
    "def is_power_of_two_recursive(n):\n",
    "    if n == 0:\n",
    "        return False\n",
    "    return is_power_of_two(n)"
   ]
  },
  {
   "cell_type": "code",
   "execution_count": 19,
   "id": "bb49fea0",
   "metadata": {},
   "outputs": [
    {
     "data": {
      "text/plain": [
       "True"
      ]
     },
     "execution_count": 19,
     "metadata": {},
     "output_type": "execute_result"
    }
   ],
   "source": [
    "is_power_2(16)"
   ]
  },
  {
   "cell_type": "code",
   "execution_count": 20,
   "id": "78e4b53e",
   "metadata": {},
   "outputs": [
    {
     "data": {
      "text/plain": [
       "False"
      ]
     },
     "execution_count": 20,
     "metadata": {},
     "output_type": "execute_result"
    }
   ],
   "source": [
    "is_power_2(3)"
   ]
  },
  {
   "cell_type": "markdown",
   "id": "1786c220",
   "metadata": {},
   "source": [
    "<aside>\n",
    "💡 **Question 2**\n",
    "\n",
    "Given a number n, find the sum of the first natural numbers.\n",
    "\n",
    "**Example 1:**\n",
    "\n",
    "Input: n = 3 \n",
    "\n",
    "Output: 6\n",
    "\n",
    "**Example 2:**\n",
    "\n",
    "Input  : 5 \n",
    "\n",
    "Output : 15\n",
    "\n",
    "</aside>"
   ]
  },
  {
   "cell_type": "code",
   "execution_count": 26,
   "id": "2a8f6575",
   "metadata": {},
   "outputs": [],
   "source": [
    "def sum_n(n):\n",
    "    if n==0:\n",
    "        return 0\n",
    "    if n>0:\n",
    "        sum=0\n",
    "        for i in range(1,n+1):\n",
    "            sum=sum+i\n",
    "        return sum"
   ]
  },
  {
   "cell_type": "code",
   "execution_count": 27,
   "id": "a148c5e6",
   "metadata": {},
   "outputs": [
    {
     "data": {
      "text/plain": [
       "6"
      ]
     },
     "execution_count": 27,
     "metadata": {},
     "output_type": "execute_result"
    }
   ],
   "source": [
    "sum_n(3)"
   ]
  },
  {
   "cell_type": "code",
   "execution_count": 28,
   "id": "dd538050",
   "metadata": {},
   "outputs": [
    {
     "data": {
      "text/plain": [
       "15"
      ]
     },
     "execution_count": 28,
     "metadata": {},
     "output_type": "execute_result"
    }
   ],
   "source": [
    "sum_n(5)"
   ]
  },
  {
   "cell_type": "code",
   "execution_count": 29,
   "id": "a0b616b0",
   "metadata": {},
   "outputs": [],
   "source": [
    "def sum_of_natural_numbers(n):\n",
    "    if n == 0:\n",
    "        return 0\n",
    "    else:\n",
    "        return n + sum_of_natural_numbers(n - 1)"
   ]
  },
  {
   "cell_type": "code",
   "execution_count": 30,
   "id": "24432c2c",
   "metadata": {},
   "outputs": [
    {
     "data": {
      "text/plain": [
       "55"
      ]
     },
     "execution_count": 30,
     "metadata": {},
     "output_type": "execute_result"
    }
   ],
   "source": [
    "sum_of_natural_numbers(10)"
   ]
  },
  {
   "cell_type": "markdown",
   "id": "ac0e73b1",
   "metadata": {},
   "source": [
    "<aside>\n",
    "💡 **Question 3**\n",
    "\n",
    "****Given a positive integer, N. Find the factorial of N. \n",
    "\n",
    "**Example 1:**\n",
    "\n",
    "Input: N = 5 \n",
    "\n",
    "Output: 120\n",
    "\n",
    "**Example 2:**\n",
    "\n",
    "Input: N = 4\n",
    "\n",
    "Output: 24\n",
    "\n",
    "</aside>"
   ]
  },
  {
   "cell_type": "code",
   "execution_count": 31,
   "id": "cee40513",
   "metadata": {},
   "outputs": [],
   "source": [
    "def factorial(N):\n",
    "    if N==0:\n",
    "        return 0\n",
    "    elif N==1:\n",
    "        return 1\n",
    "    else:\n",
    "        mul=1\n",
    "        for i in range(1,N+1):\n",
    "            mul=mul*i\n",
    "        return mul\n",
    "        "
   ]
  },
  {
   "cell_type": "code",
   "execution_count": 32,
   "id": "2eebf352",
   "metadata": {},
   "outputs": [
    {
     "data": {
      "text/plain": [
       "120"
      ]
     },
     "execution_count": 32,
     "metadata": {},
     "output_type": "execute_result"
    }
   ],
   "source": [
    "factorial(5)"
   ]
  },
  {
   "cell_type": "code",
   "execution_count": 33,
   "id": "fdeafd08",
   "metadata": {},
   "outputs": [
    {
     "data": {
      "text/plain": [
       "24"
      ]
     },
     "execution_count": 33,
     "metadata": {},
     "output_type": "execute_result"
    }
   ],
   "source": [
    "factorial(4)"
   ]
  },
  {
   "cell_type": "code",
   "execution_count": 39,
   "id": "a464a826",
   "metadata": {},
   "outputs": [],
   "source": [
    "def factorial(N):\n",
    "     if N==0:\n",
    "        return 0\n",
    "     elif N==1:\n",
    "        return 1\n",
    "     else:\n",
    "        return N *factorial(N-1)\n",
    "    "
   ]
  },
  {
   "cell_type": "code",
   "execution_count": 40,
   "id": "eeb9db97",
   "metadata": {},
   "outputs": [
    {
     "data": {
      "text/plain": [
       "720"
      ]
     },
     "execution_count": 40,
     "metadata": {},
     "output_type": "execute_result"
    }
   ],
   "source": [
    "factorial(6)"
   ]
  },
  {
   "cell_type": "markdown",
   "id": "3af7f135",
   "metadata": {},
   "source": [
    "<aside>\n",
    "💡 **Question 4**\n",
    "\n",
    "Given a number N and a power P, the task is to find the exponent of this number raised to the given power, i.e. N^P.\n",
    "\n",
    "**Example 1 :** \n",
    "\n",
    "Input: N = 5, P = 2\n",
    "\n",
    "Output: 25\n",
    "\n",
    "**Example 2 :**\n",
    "Input: N = 2, P = 5\n",
    "\n",
    "Output: 32\n",
    "\n",
    "</aside>"
   ]
  },
  {
   "cell_type": "code",
   "execution_count": 44,
   "id": "7025fbd0",
   "metadata": {},
   "outputs": [],
   "source": [
    "def exponent_number(N,P):\n",
    "    if P==0:\n",
    "        return 1\n",
    "    elif N==0:\n",
    "        return 0\n",
    "    else:\n",
    "        return N**P"
   ]
  },
  {
   "cell_type": "code",
   "execution_count": 45,
   "id": "e2494b75",
   "metadata": {},
   "outputs": [
    {
     "data": {
      "text/plain": [
       "25"
      ]
     },
     "execution_count": 45,
     "metadata": {},
     "output_type": "execute_result"
    }
   ],
   "source": [
    "exponent_number(5,2)"
   ]
  },
  {
   "cell_type": "code",
   "execution_count": 46,
   "id": "e9292a03",
   "metadata": {},
   "outputs": [],
   "source": [
    "def power_of_number(n, p):\n",
    "    if p == 0:\n",
    "        return 1\n",
    "    else:\n",
    "        return n * power_of_number(n, p - 1)"
   ]
  },
  {
   "cell_type": "code",
   "execution_count": 47,
   "id": "715efb43",
   "metadata": {},
   "outputs": [
    {
     "data": {
      "text/plain": [
       "32"
      ]
     },
     "execution_count": 47,
     "metadata": {},
     "output_type": "execute_result"
    }
   ],
   "source": [
    "power_of_number(2,5)"
   ]
  },
  {
   "cell_type": "markdown",
   "id": "3b9c8ddd",
   "metadata": {},
   "source": [
    "<aside>\n",
    "💡 **Question 5**\n",
    "\n",
    "Given an array of integers **arr**, the task is to find maximum element of that array using recursion.\n",
    "\n",
    "**Example 1:**\n",
    "\n",
    "Input: arr = {1, 4, 3, -5, -4, 8, 6};\n",
    "Output: 8\n",
    "\n",
    "**Example 2:**\n",
    "\n",
    "Input: arr = {1, 4, 45, 6, 10, -8};\n",
    "Output: 45\n",
    "\n",
    "</aside>"
   ]
  },
  {
   "cell_type": "code",
   "execution_count": 54,
   "id": "8c7be993",
   "metadata": {},
   "outputs": [],
   "source": [
    "def max_arr(arr):\n",
    "    if len(list(arr))==0:\n",
    "        return 0\n",
    "    else:\n",
    "        return max(list(arr))"
   ]
  },
  {
   "cell_type": "code",
   "execution_count": 55,
   "id": "cea40f0c",
   "metadata": {},
   "outputs": [
    {
     "data": {
      "text/plain": [
       "8"
      ]
     },
     "execution_count": 55,
     "metadata": {},
     "output_type": "execute_result"
    }
   ],
   "source": [
    "max_arr({1, 4, 3, -5, -4, 8, 6})"
   ]
  },
  {
   "cell_type": "code",
   "execution_count": 56,
   "id": "1c3620dd",
   "metadata": {},
   "outputs": [],
   "source": [
    "def find_maximum(arr):\n",
    "    if len(arr) == 1:\n",
    "        return arr[0]\n",
    "    else:\n",
    "        return max(arr[0], find_maximum(arr[1:]))\n"
   ]
  },
  {
   "cell_type": "code",
   "execution_count": 58,
   "id": "74fa3b0c",
   "metadata": {},
   "outputs": [
    {
     "data": {
      "text/plain": [
       "45"
      ]
     },
     "execution_count": 58,
     "metadata": {},
     "output_type": "execute_result"
    }
   ],
   "source": [
    "find_maximum( arr = [1, 4, 45, 6, 10, -8])"
   ]
  },
  {
   "cell_type": "markdown",
   "id": "7ab0edb0",
   "metadata": {},
   "source": [
    "<aside>\n",
    "💡 **Question 6**\n",
    "\n",
    "Given first term (a), common difference (d) and a integer N of the Arithmetic Progression series, the task is to find Nth term of the series.\n",
    "\n",
    "**Example 1:**\n",
    "\n",
    "Input : a = 2 d = 1 N = 5\n",
    "Output : 6\n",
    "The 5th term of the series is : 6\n",
    "\n",
    "**Example 2:**\n",
    "\n",
    "Input : a = 5 d = 2 N = 10\n",
    "Output : 23\n",
    "The 10th term of the series is : 23\n",
    "\n",
    "</aside>"
   ]
  },
  {
   "cell_type": "code",
   "execution_count": 71,
   "id": "72c9970e",
   "metadata": {},
   "outputs": [],
   "source": [
    "def AP(a,d,N):\n",
    "    l=[]\n",
    "    l.append(a)\n",
    "    for i in range(1,N+1):\n",
    "        l.append(a+d*i)\n",
    "    return l[N-1]\n",
    "        "
   ]
  },
  {
   "cell_type": "code",
   "execution_count": 72,
   "id": "cd7fd769",
   "metadata": {},
   "outputs": [
    {
     "data": {
      "text/plain": [
       "6"
      ]
     },
     "execution_count": 72,
     "metadata": {},
     "output_type": "execute_result"
    }
   ],
   "source": [
    "AP(a = 2,d = 1,N = 5)"
   ]
  },
  {
   "cell_type": "code",
   "execution_count": 73,
   "id": "03390c71",
   "metadata": {},
   "outputs": [
    {
     "data": {
      "text/plain": [
       "23"
      ]
     },
     "execution_count": 73,
     "metadata": {},
     "output_type": "execute_result"
    }
   ],
   "source": [
    "AP(5,2,10)"
   ]
  },
  {
   "cell_type": "code",
   "execution_count": 78,
   "id": "f744b388",
   "metadata": {},
   "outputs": [],
   "source": [
    "def ap(a, d, n):\n",
    "    if n == 1:\n",
    "        return a\n",
    "    else:\n",
    "        return ap(a + d, d, n - 1)"
   ]
  },
  {
   "cell_type": "code",
   "execution_count": 79,
   "id": "e8c350fb",
   "metadata": {},
   "outputs": [
    {
     "data": {
      "text/plain": [
       "6"
      ]
     },
     "execution_count": 79,
     "metadata": {},
     "output_type": "execute_result"
    }
   ],
   "source": [
    "ap(a = 2,d = 1,n = 5)"
   ]
  },
  {
   "cell_type": "code",
   "execution_count": 80,
   "id": "05d9da26",
   "metadata": {},
   "outputs": [
    {
     "data": {
      "text/plain": [
       "23"
      ]
     },
     "execution_count": 80,
     "metadata": {},
     "output_type": "execute_result"
    }
   ],
   "source": [
    "ap(5,2,10)"
   ]
  },
  {
   "cell_type": "markdown",
   "id": "e0ceff60",
   "metadata": {},
   "source": [
    "Given a string S, the task is to write a program to print all permutations of a given string.\n",
    "\n",
    "**Example 1:**\n",
    "\n",
    "***Input:***\n",
    "\n",
    "*S = “ABC”*\n",
    "\n",
    "***Output:***\n",
    "\n",
    "*“ABC”, “ACB”, “BAC”, “BCA”, “CBA”, “CAB”*\n",
    "\n",
    "**Example 2:**\n",
    "\n",
    "***Input:***\n",
    "\n",
    "*S = “XY”*\n",
    "\n",
    "***Output:***\n",
    "\n",
    "*“XY”, “YX”*"
   ]
  },
  {
   "cell_type": "code",
   "execution_count": 81,
   "id": "4632e571",
   "metadata": {},
   "outputs": [],
   "source": [
    "import itertools"
   ]
  },
  {
   "cell_type": "code",
   "execution_count": 150,
   "id": "3833d1d3",
   "metadata": {},
   "outputs": [],
   "source": [
    "def permutation(S):\n",
    "    l=[]\n",
    "    l1=[]\n",
    "    for i in itertools.permutations(S):\n",
    "        l.append(i)\n",
    "    for j in l:\n",
    "        l1.append(''.join(list(j)))\n",
    "    return (\",\".join(l1)).replace(',','\",\"').replace(\"'\",'\"')\n",
    "        \n",
    "    \n",
    "        "
   ]
  },
  {
   "cell_type": "code",
   "execution_count": 151,
   "id": "47f7702b",
   "metadata": {},
   "outputs": [
    {
     "data": {
      "text/plain": [
       "'ABC\",\"ACB\",\"BAC\",\"BCA\",\"CAB\",\"CBA'"
      ]
     },
     "execution_count": 151,
     "metadata": {},
     "output_type": "execute_result"
    }
   ],
   "source": [
    "permutation(\"ABC\")"
   ]
  },
  {
   "cell_type": "markdown",
   "id": "9ac3f5d6",
   "metadata": {},
   "source": [
    "<aside>\n",
    "💡 **Question 8**\n",
    "\n",
    "Given an array, find a product of all array elements.\n",
    "\n",
    "**Example 1:**\n",
    "\n",
    "Input  : arr[] = {1, 2, 3, 4, 5}\n",
    "Output : 120\n",
    "**Example 2:**\n",
    "\n",
    "Input  : arr[] = {1, 6, 3}\n",
    "Output : 18\n",
    "\n",
    "</aside>"
   ]
  },
  {
   "cell_type": "code",
   "execution_count": 156,
   "id": "f9987129",
   "metadata": {},
   "outputs": [],
   "source": [
    "def product(arr):\n",
    "    if len(list(arr))==0:\n",
    "        return 0\n",
    "    mul=1\n",
    "    for i in list(arr):\n",
    "        mul=mul*i\n",
    "    return mul"
   ]
  },
  {
   "cell_type": "code",
   "execution_count": 157,
   "id": "86953f91",
   "metadata": {},
   "outputs": [
    {
     "data": {
      "text/plain": [
       "120"
      ]
     },
     "execution_count": 157,
     "metadata": {},
     "output_type": "execute_result"
    }
   ],
   "source": [
    "product({1, 2, 3, 4, 5})"
   ]
  },
  {
   "cell_type": "code",
   "execution_count": 158,
   "id": "5ddc48aa",
   "metadata": {},
   "outputs": [
    {
     "data": {
      "text/plain": [
       "18"
      ]
     },
     "execution_count": 158,
     "metadata": {},
     "output_type": "execute_result"
    }
   ],
   "source": [
    "product({1, 6, 3})"
   ]
  },
  {
   "cell_type": "code",
   "execution_count": 161,
   "id": "b11f0256",
   "metadata": {},
   "outputs": [],
   "source": [
    "def product_of_array(arr):\n",
    "    if len(arr) == 0:\n",
    "        return 1\n",
    "    else:\n",
    "        return arr[0] * product_of_array(arr[1:])\n",
    "\n",
    "    "
   ]
  },
  {
   "cell_type": "code",
   "execution_count": 163,
   "id": "172195c9",
   "metadata": {},
   "outputs": [
    {
     "data": {
      "text/plain": [
       "120"
      ]
     },
     "execution_count": 163,
     "metadata": {},
     "output_type": "execute_result"
    }
   ],
   "source": [
    "product_of_array([1,2,3,4,5])"
   ]
  },
  {
   "cell_type": "code",
   "execution_count": 164,
   "id": "b96f2b81",
   "metadata": {},
   "outputs": [
    {
     "data": {
      "text/plain": [
       "18"
      ]
     },
     "execution_count": 164,
     "metadata": {},
     "output_type": "execute_result"
    }
   ],
   "source": [
    "product_of_array([1,6,3])"
   ]
  },
  {
   "cell_type": "code",
   "execution_count": null,
   "id": "3b8cb8aa",
   "metadata": {},
   "outputs": [],
   "source": []
  }
 ],
 "metadata": {
  "kernelspec": {
   "display_name": "Python 3 (ipykernel)",
   "language": "python",
   "name": "python3"
  },
  "language_info": {
   "codemirror_mode": {
    "name": "ipython",
    "version": 3
   },
   "file_extension": ".py",
   "mimetype": "text/x-python",
   "name": "python",
   "nbconvert_exporter": "python",
   "pygments_lexer": "ipython3",
   "version": "3.9.12"
  }
 },
 "nbformat": 4,
 "nbformat_minor": 5
}

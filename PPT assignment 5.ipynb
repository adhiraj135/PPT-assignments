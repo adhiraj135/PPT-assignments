{
 "cells": [
  {
   "cell_type": "markdown",
   "id": "1c622c14",
   "metadata": {},
   "source": [
    "**Question 1**\n",
    "\n",
    "Convert 1D Array Into 2D Array\n",
    "\n",
    "You are given a **0-indexed** 1-dimensional (1D) integer array original, and two integers, m and n. You are tasked with creating a 2-dimensional (2D) array with  m rows and n columns using **all** the elements from original.\n",
    "\n",
    "The elements from indices 0 to n - 1 (**inclusive**) of original should form the first row of the constructed 2D array, the elements from indices n to 2 * n - 1 (**inclusive**) should form the second row of the constructed 2D array, and so on.\n",
    "\n",
    "Return *an* m x n *2D array constructed according to the above procedure, or an empty 2D array if it is impossible*.\n",
    "\n",
    "</aside>"
   ]
  },
  {
   "cell_type": "code",
   "execution_count": 6,
   "id": "9ea9d32a",
   "metadata": {},
   "outputs": [],
   "source": [
    "def matrix_conversion(arr,m,n):\n",
    "    original_matrix=np.matrix(arr)\n",
    "    return original_matrix.reshape(m,n)"
   ]
  },
  {
   "cell_type": "code",
   "execution_count": 7,
   "id": "8a3bc232",
   "metadata": {},
   "outputs": [
    {
     "data": {
      "text/plain": [
       "matrix([[1, 2],\n",
       "        [3, 4]])"
      ]
     },
     "execution_count": 7,
     "metadata": {},
     "output_type": "execute_result"
    }
   ],
   "source": [
    "matrix_conversion([1,2,3,4],2,2)"
   ]
  },
  {
   "cell_type": "markdown",
   "id": "884dcc4a",
   "metadata": {},
   "source": [
    "Question 3**\n",
    "\n",
    "Given an integer array nums sorted in **non-decreasing** order, return *an array of **the squares of each number** sorted in non-decreasing order*.\n",
    "\n",
    "**Example 1:**\n",
    "\n",
    "Input: nums = [-4,-1,0,3,10]\n",
    "\n",
    "Output: [0,1,9,16,100]\n",
    "\n",
    "**Explanation:** After squaring, the array becomes [16,1,0,9,100].\n",
    "After sorting, it becomes [0,1,9,16,100]\n",
    "\n",
    "</aside>"
   ]
  },
  {
   "cell_type": "code",
   "execution_count": 13,
   "id": "a9a4b88c",
   "metadata": {},
   "outputs": [],
   "source": [
    "def list_of_squares(nums):\n",
    "    l=[]\n",
    "    if nums==sorted(nums):\n",
    "        for i in nums:\n",
    "            l.append(i**2)\n",
    "    else:\n",
    "        return \"list is not in non_decreasing order\"\n",
    "    return sorted(l)\n",
    "        "
   ]
  },
  {
   "cell_type": "code",
   "execution_count": 14,
   "id": "81d51243",
   "metadata": {},
   "outputs": [
    {
     "data": {
      "text/plain": [
       "[0, 1, 9, 16, 100]"
      ]
     },
     "execution_count": 14,
     "metadata": {},
     "output_type": "execute_result"
    }
   ],
   "source": [
    "list_of_squares([-4,-1,0,3,10])"
   ]
  },
  {
   "cell_type": "code",
   "execution_count": 15,
   "id": "d35daf69",
   "metadata": {},
   "outputs": [
    {
     "data": {
      "text/plain": [
       "'list is not in non_decreasing order'"
      ]
     },
     "execution_count": 15,
     "metadata": {},
     "output_type": "execute_result"
    }
   ],
   "source": [
    "list_of_squares([5,-1,0,3,10])"
   ]
  },
  {
   "cell_type": "markdown",
   "id": "70754c6b",
   "metadata": {},
   "source": [
    "Question 4\n",
    "\n",
    "Given two **0-indexed** integer arrays nums1 and nums2, return *a list* answer *of size* 2 *where:*\n",
    "\n",
    "- answer[0] *is a list of all **distinct** integers in* nums1 *which are **not** present in* nums2*.*\n",
    "- answer[1] *is a list of all **distinct** integers in* nums2 *which are **not** present in* nums1.\n",
    "\n",
    "**Note** that the integers in the lists may be returned in **any** order.\n",
    "\n",
    "</aside>"
   ]
  },
  {
   "cell_type": "code",
   "execution_count": 10,
   "id": "e4f21ea9",
   "metadata": {},
   "outputs": [],
   "source": [
    "def missing_compared_values(nums1,nums2):\n",
    "    l1=[]\n",
    "    l2=[]\n",
    "    l=[]\n",
    "    for i in nums1:\n",
    "        if i not in nums2:\n",
    "            l1.append(i)\n",
    "    for j in nums2:\n",
    "        if j not in nums1:\n",
    "            l2.append(j)\n",
    "    l.append(l1)\n",
    "    l.append(l2)\n",
    "    return l"
   ]
  },
  {
   "cell_type": "code",
   "execution_count": 11,
   "id": "bf0a74bd",
   "metadata": {},
   "outputs": [
    {
     "data": {
      "text/plain": [
       "[[1, 3], [4, 6]]"
      ]
     },
     "execution_count": 11,
     "metadata": {},
     "output_type": "execute_result"
    }
   ],
   "source": [
    "missing_compared_values([1,2,3],[2,4,6])"
   ]
  },
  {
   "cell_type": "markdown",
   "id": "4a0806c1",
   "metadata": {},
   "source": [
    "**Question 5**\n",
    "\n",
    "Given two integer arrays arr1 and arr2, and the integer d, *return the distance value between the two arrays*.\n",
    "\n",
    "The distance value is defined as the number of elements arr1[i] such that there is not any element arr2[j] where |arr1[i]-arr2[j]| <= d.\n",
    "\n",
    "</aside>"
   ]
  },
  {
   "cell_type": "code",
   "execution_count": 26,
   "id": "d1812363",
   "metadata": {},
   "outputs": [],
   "source": [
    "def subtarcted_iteration_greater_than_d(arr1,arr2,d):\n",
    "    l=[]\n",
    "    for i in arr1:\n",
    "        for j in arr2:\n",
    "            if abs(i-j)<= d:\n",
    "                l.append(abs(i-j))\n",
    "    return len(l)"
   ]
  },
  {
   "cell_type": "code",
   "execution_count": 27,
   "id": "09995057",
   "metadata": {},
   "outputs": [
    {
     "data": {
      "text/plain": [
       "3"
      ]
     },
     "execution_count": 27,
     "metadata": {},
     "output_type": "execute_result"
    }
   ],
   "source": [
    "subtarcted_iteration_greater_than_d(arr1=[4,5,8], arr2=[10,9,1,8], d=2)"
   ]
  },
  {
   "cell_type": "markdown",
   "id": "e71b6b55",
   "metadata": {},
   "source": [
    " **Question 6**\n",
    "\n",
    "Given an integer array nums of length n where all the integers of nums are in the range [1, n] and each integer appears **once** or **twice**, return *an array of all the integers that appears **twice***.\n",
    "\n",
    "</aside>"
   ]
  },
  {
   "cell_type": "code",
   "execution_count": 34,
   "id": "c9fdcd5a",
   "metadata": {},
   "outputs": [],
   "source": [
    "def count_greater_than_1(arr1):\n",
    "    l=[]\n",
    "    for i in arr1:\n",
    "        if arr1.count(i)>1:\n",
    "            l.append(i)\n",
    "    return list(set(l))"
   ]
  },
  {
   "cell_type": "code",
   "execution_count": 35,
   "id": "51d4bce7",
   "metadata": {},
   "outputs": [
    {
     "data": {
      "text/plain": [
       "[2, 3]"
      ]
     },
     "execution_count": 35,
     "metadata": {},
     "output_type": "execute_result"
    }
   ],
   "source": [
    "count_greater_than_1([4,3,2,7,8,2,3,1])"
   ]
  },
  {
   "cell_type": "code",
   "execution_count": 16,
   "id": "d48752db",
   "metadata": {},
   "outputs": [
    {
     "data": {
      "text/plain": [
       "[]"
      ]
     },
     "execution_count": 16,
     "metadata": {},
     "output_type": "execute_result"
    }
   ],
   "source": [
    "find_original_array(changed=[1,3,4,2,4,8])"
   ]
  },
  {
   "cell_type": "code",
   "execution_count": null,
   "id": "6993c638",
   "metadata": {},
   "outputs": [],
   "source": []
  }
 ],
 "metadata": {
  "kernelspec": {
   "display_name": "Python 3 (ipykernel)",
   "language": "python",
   "name": "python3"
  },
  "language_info": {
   "codemirror_mode": {
    "name": "ipython",
    "version": 3
   },
   "file_extension": ".py",
   "mimetype": "text/x-python",
   "name": "python",
   "nbconvert_exporter": "python",
   "pygments_lexer": "ipython3",
   "version": "3.9.12"
  }
 },
 "nbformat": 4,
 "nbformat_minor": 5
}

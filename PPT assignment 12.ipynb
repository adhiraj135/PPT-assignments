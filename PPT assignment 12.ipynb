{
 "cells": [
  {
   "cell_type": "markdown",
   "id": "1bc047de",
   "metadata": {},
   "source": [
    "<aside>\n",
    "💡 **Question 1**\n",
    "\n",
    "Given a singly linked list, delete **middle** of the linked list. For example, if given linked list is 1->2->**3**->4->5 then linked list should be modified to 1->2->4->5.If there are **even** nodes, then there would be **two middle** nodes, we need to delete the second middle element. For example, if given linked list is 1->2->3->4->5->6 then it should be modified to 1->2->3->5->6.If the input linked list is NULL or has 1 node, then it should return NULL\n",
    "\n",
    "**Example 1:**\n",
    "    Input: \n",
    "    LinkedList: 1->2->3->4->5\n",
    "    Output:1 2 4 5\n",
    "\n",
    "    \n",
    "\n",
    "</aside>"
   ]
  },
  {
   "cell_type": "code",
   "execution_count": 2,
   "id": "b41cb416",
   "metadata": {},
   "outputs": [],
   "source": [
    "class ListNode:\n",
    "    def __init__(self, val=0, next=None):\n",
    "        self.val = val\n",
    "        self.next = next\n",
    "\n",
    "def delete_middle_node(head):\n",
    "    if head is None or head.next is None:\n",
    "        return None\n",
    "    \n",
    "    slow = head\n",
    "    fast = head\n",
    "    prev = None\n",
    "    \n",
    "    while fast is not None and fast.next is not None:\n",
    "        fast = fast.next.next\n",
    "        prev = slow\n",
    "        slow = slow.next\n",
    "    \n",
    "    # Update pointers to skip the middle node\n",
    "    prev.next = slow.next\n",
    "    \n",
    "    # Free memory of the middle node\n",
    "    slow.next = None\n",
    "    \n",
    "    return head\n"
   ]
  },
  {
   "cell_type": "code",
   "execution_count": 3,
   "id": "38857ecf",
   "metadata": {},
   "outputs": [
    {
     "name": "stdout",
     "output_type": "stream",
     "text": [
      "1 2 4 5 "
     ]
    }
   ],
   "source": [
    "# Create the linked list\n",
    "head = ListNode(1)\n",
    "head.next = ListNode(2)\n",
    "head.next.next = ListNode(3)\n",
    "head.next.next.next = ListNode(4)\n",
    "head.next.next.next.next = ListNode(5)\n",
    "\n",
    "# Delete the middle node\n",
    "head = delete_middle_node(head)\n",
    "\n",
    "# Print the modified linked list\n",
    "current = head\n",
    "while current is not None:\n",
    "    print(current.val, end=\" \")\n",
    "    current = current.next\n"
   ]
  },
  {
   "cell_type": "code",
   "execution_count": 4,
   "id": "5782f794",
   "metadata": {},
   "outputs": [
    {
     "name": "stdout",
     "output_type": "stream",
     "text": [
      "2 4 6 5 1 "
     ]
    }
   ],
   "source": [
    "# Create the linked list\n",
    "head = ListNode(2)\n",
    "head.next = ListNode(4)\n",
    "head.next.next = ListNode(6)\n",
    "head.next.next.next = ListNode(7)\n",
    "head.next.next.next.next = ListNode(5)\n",
    "head.next.next.next.next.next=ListNode(1)\n",
    "# Delete the middle node\n",
    "head = delete_middle_node(head)\n",
    "\n",
    "# Print the modified linked list\n",
    "current = head\n",
    "while current is not None:\n",
    "    print(current.val, end=\" \")\n",
    "    current = current.next\n"
   ]
  },
  {
   "cell_type": "markdown",
   "id": "5e16ebb9",
   "metadata": {},
   "source": [
    "<aside>\n",
    "💡 **Question 2**\n",
    "\n",
    "Given a linked list of **N** nodes. The task is to check if the linked list has a loop. Linked list can contain self loop.\n",
    "    Input:\n",
    "    N = 3\n",
    "    value[] = {1,3,4}\n",
    "    x(position at which tail is connected) = 2\n",
    "    Output:True  \n",
    "    Explanation:In above test case N = 3.\n",
    "    The linked list with nodes N = 3 is given. Then value of x=2 is given which means last node is connected with xth node of    linked list. Therefore, there exists a loop.\n",
    "\n",
    "</aside>"
   ]
  },
  {
   "cell_type": "code",
   "execution_count": 14,
   "id": "c48a0fc0",
   "metadata": {},
   "outputs": [],
   "source": [
    "class ListNode:\n",
    "    def __init__(self, val=0, next=None):\n",
    "        self.val = val\n",
    "        self.next = next\n",
    "\n",
    "def has_loop(head):\n",
    "    if head is None or head.next is None:\n",
    "        return False\n",
    "\n",
    "    slow = head\n",
    "    fast = head\n",
    "\n",
    "    while fast is not None and fast.next is not None:\n",
    "        slow = slow.next\n",
    "        fast = fast.next.next\n",
    "\n",
    "        if slow == fast:\n",
    "            return True\n",
    "\n",
    "    return False\n"
   ]
  },
  {
   "cell_type": "code",
   "execution_count": 12,
   "id": "a2be57f0",
   "metadata": {},
   "outputs": [
    {
     "name": "stdout",
     "output_type": "stream",
     "text": [
      "True\n"
     ]
    }
   ],
   "source": [
    "# Create the linked list with a loop\n",
    "head = ListNode(1)\n",
    "head.next = ListNode(3)\n",
    "head.next.next = ListNode(4)\n",
    "head.next.next.next = head.next\n",
    "\n",
    "# Check if the linked list has a loop\n",
    "has_loop = has_loop(head)\n",
    "\n",
    "# Print the result\n",
    "print(has_loop)\n"
   ]
  },
  {
   "cell_type": "code",
   "execution_count": 15,
   "id": "183be8d8",
   "metadata": {},
   "outputs": [
    {
     "name": "stdout",
     "output_type": "stream",
     "text": [
      "True\n"
     ]
    }
   ],
   "source": [
    "head = ListNode(1)\n",
    "head.next = ListNode(8)\n",
    "head.next.next = ListNode(3)\n",
    "head.next.next.next = ListNode(4)\n",
    "head.next.next.next.next= head.next\n",
    "\n",
    "\n",
    "# Check if the linked list has a loop\n",
    "has_loop = has_loop(head)\n",
    "\n",
    "# Print the result\n",
    "print(has_loop)\n"
   ]
  },
  {
   "cell_type": "markdown",
   "id": "20aa63fa",
   "metadata": {},
   "source": [
    "<aside>\n",
    "💡 **Question 3**\n",
    "\n",
    "Given a linked list consisting of **L** nodes and given a number **N**. The task is to find the **N**th node from the end of the linked list\n",
    "\n",
    "Input:\n",
    "N = 2\n",
    "LinkedList: 1->2->3->4->5->6->7->8->9\n",
    "Output:8\n",
    "Explanation:In the first example, there\n",
    "are 9 nodes in linked list and we need\n",
    "to find 2nd node from end. 2nd node\n",
    "from end is 8.\n",
    "    \n",
    "Input:\n",
    "N = 5\n",
    "LinkedList: 10->5->100->5\n",
    "Output:-1\n",
    "Explanation:In the second example, there\n",
    "are 4 nodes in the linked list and we\n",
    "need to find 5th from the end. Since 'n'\n",
    "is more than the number of nodes in the\n",
    "linked list, the output is -1.\n",
    "\n",
    "</aside>"
   ]
  },
  {
   "cell_type": "code",
   "execution_count": 16,
   "id": "2951d2da",
   "metadata": {},
   "outputs": [],
   "source": [
    "class ListNode:\n",
    "    def __init__(self, val=0, next=None):\n",
    "        self.val = val\n",
    "        self.next = next\n",
    "\n",
    "def find_nth_from_end(head, N):\n",
    "    if head is None:\n",
    "        return -1\n",
    "\n",
    "    fast = head\n",
    "    slow = head\n",
    "\n",
    "    # Move the fast pointer N positions ahead\n",
    "    for _ in range(N):\n",
    "        if fast is None:\n",
    "            return -1\n",
    "        fast = fast.next\n",
    "\n",
    "    # Move both pointers simultaneously\n",
    "    while fast is not None:\n",
    "        fast = fast.next\n",
    "        slow = slow.next\n",
    "\n",
    "    # Return the value of the node at the slow pointer\n",
    "    return slow.val\n"
   ]
  },
  {
   "cell_type": "code",
   "execution_count": 17,
   "id": "b98c0559",
   "metadata": {},
   "outputs": [
    {
     "name": "stdout",
     "output_type": "stream",
     "text": [
      "8\n"
     ]
    }
   ],
   "source": [
    "# Create the linked list\n",
    "head = ListNode(1)\n",
    "head.next = ListNode(2)\n",
    "head.next.next = ListNode(3)\n",
    "head.next.next.next = ListNode(4)\n",
    "head.next.next.next.next = ListNode(5)\n",
    "head.next.next.next.next.next = ListNode(6)\n",
    "head.next.next.next.next.next.next = ListNode(7)\n",
    "head.next.next.next.next.next.next.next = ListNode(8)\n",
    "head.next.next.next.next.next.next.next.next = ListNode(9)\n",
    "\n",
    "# Find the Nth node from the end\n",
    "N = 2\n",
    "result = find_nth_from_end(head, N)\n",
    "\n",
    "# Print the result\n",
    "print(result)\n"
   ]
  },
  {
   "cell_type": "markdown",
   "id": "9983d0c2",
   "metadata": {},
   "source": [
    "Question 4\n",
    "\n",
    "Given a singly linked list of characters, write a function that returns true if the given list is a palindrome, else false.\n",
    "\n",
    "> Input: R->A->D->A->R->NULL\n",
    "> \n",
    "> \n",
    "> **Output:** Yes\n",
    "> \n",
    "> **Input:** C->O->D->E->NULL\n",
    "> \n",
    "> **Output:** No\n",
    ">"
   ]
  },
  {
   "cell_type": "code",
   "execution_count": 18,
   "id": "eae1e130",
   "metadata": {},
   "outputs": [],
   "source": [
    "s=4964.42252626656"
   ]
  },
  {
   "cell_type": "code",
   "execution_count": 21,
   "id": "7f522110",
   "metadata": {},
   "outputs": [
    {
     "data": {
      "text/plain": [
       "4964.0"
      ]
     },
     "execution_count": 21,
     "metadata": {},
     "output_type": "execute_result"
    }
   ],
   "source": [
    "round(s,0)"
   ]
  },
  {
   "cell_type": "code",
   "execution_count": 22,
   "id": "24a1bab2",
   "metadata": {},
   "outputs": [],
   "source": [
    "class ListNode:\n",
    "    def __init__(self, val=0, next=None):\n",
    "        self.val = val\n",
    "        self.next = next\n",
    "\n",
    "def is_palindrome(head):\n",
    "    if head is None or head.next is None:\n",
    "        return True\n",
    "\n",
    "    slow = head\n",
    "    fast = head\n",
    "\n",
    "    # Move the fast pointer to find the middle\n",
    "    while fast.next is not None and fast.next.next is not None:\n",
    "        slow = slow.next\n",
    "        fast = fast.next.next\n",
    "\n",
    "    second_half = reverse_linked_list(slow.next)\n",
    "    current = head\n",
    "\n",
    "    # Compare the reversed second half with the first half\n",
    "    while second_half is not None:\n",
    "        if current.val != second_half.val:\n",
    "            return False\n",
    "        current = current.next\n",
    "        second_half = second_half.next\n",
    "\n",
    "    return True\n",
    "\n",
    "def reverse_linked_list(head):\n",
    "    prev = None\n",
    "    current = head\n",
    "\n",
    "    while current is not None:\n",
    "        next_node = current.next\n",
    "        current.next = prev\n",
    "        prev = current\n",
    "        current = next_node\n",
    "\n",
    "    return prev\n"
   ]
  },
  {
   "cell_type": "code",
   "execution_count": 23,
   "id": "86f6a86f",
   "metadata": {},
   "outputs": [
    {
     "name": "stdout",
     "output_type": "stream",
     "text": [
      "True\n",
      "False\n"
     ]
    }
   ],
   "source": [
    "# Create the linked list for the first example\n",
    "head1 = ListNode('R')\n",
    "head1.next = ListNode('A')\n",
    "head1.next.next = ListNode('D')\n",
    "head1.next.next.next = ListNode('A')\n",
    "head1.next.next.next.next = ListNode('R')\n",
    "\n",
    "# Check if the linked list is a palindrome\n",
    "result1 = is_palindrome(head1)\n",
    "\n",
    "# Print the result for the first example\n",
    "print(result1)  # Output: True\n",
    "\n",
    "# Create the linked list for the second example\n",
    "head2 = ListNode('C')\n",
    "head2.next = ListNode('O')\n",
    "head2.next.next = ListNode('D')\n",
    "head2.next.next.next = ListNode('E')\n",
    "\n",
    "# Check if the linked list is a palindrome\n",
    "result2 = is_palindrome(head2)\n",
    "\n",
    "# Print the result for the second example\n",
    "print(result2)  # Output: False\n"
   ]
  },
  {
   "cell_type": "markdown",
   "id": "4968ed2f",
   "metadata": {},
   "source": [
    "<aside>\n",
    "💡 **Question 5**\n",
    "\n",
    "Given a linked list of **N** nodes such that it may contain a loop.\n",
    "\n",
    "A loop here means that the last node of the link list is connected to the node at position X(1-based index). If the link list does not have any loop, X=0.\n",
    "\n",
    "Remove the loop from the linked list, if it is present, i.e. unlink the last node which is forming the loop.\n",
    "    \n",
    "Input:\n",
    "N = 3\n",
    "value[] = {1,3,4}\n",
    "X = 2\n",
    "Output:1\n",
    "Explanation:The link list looks like\n",
    "1 -> 3 -> 4\n",
    "     ^    |\n",
    "     |____|\n",
    "A loop is present. If you remove it\n",
    "successfully, the answer will be 1.\n",
    "\n",
    "\n",
    "Input:\n",
    "N = 4\n",
    "value[] = {1,8,3,4}\n",
    "X = 0\n",
    "Output:1\n",
    "Explanation:The Linked list does not\n",
    "contains any loop.\n",
    "    \n",
    "\n",
    "Input:\n",
    "N = 4\n",
    "value[] = {1,2,3,4}\n",
    "X = 1\n",
    "Output:1\n",
    "Explanation:The link list looks like\n",
    "1 -> 2 -> 3 -> 4\n",
    "^              |\n",
    "|______________|\n",
    "A loop is present.\n",
    "If you remove it successfully,\n",
    "the answer will be 1.\n",
    "\n",
    "</aside>"
   ]
  },
  {
   "cell_type": "code",
   "execution_count": 24,
   "id": "9852f04e",
   "metadata": {},
   "outputs": [],
   "source": [
    "class ListNode:\n",
    "    def __init__(self, val=0, next=None):\n",
    "        self.val = val\n",
    "        self.next = next\n",
    "\n",
    "def detect_and_remove_loop(head):\n",
    "    if head is None or head.next is None:\n",
    "        return head\n",
    "\n",
    "    slow = head\n",
    "    fast = head\n",
    "\n",
    "    # Detect loop using Floyd's Cycle-Finding Algorithm\n",
    "    while fast is not None and fast.next is not None:\n",
    "        slow = slow.next\n",
    "        fast = fast.next.next\n",
    "\n",
    "        if slow == fast:\n",
    "            break\n",
    "\n",
    "    # No loop present, return the original linked list\n",
    "    if slow != fast:\n",
    "        return head\n",
    "\n",
    "    # Move fast pointer to the head, while keeping slow at the meeting point\n",
    "    fast = head\n",
    "    while slow.next != fast.next:\n",
    "        slow = slow.next\n",
    "        fast = fast.next\n",
    "\n",
    "    # Break the loop by setting the next pointer of the node before the meeting point to None\n",
    "    slow.next = None\n",
    "\n",
    "    return head\n"
   ]
  },
  {
   "cell_type": "code",
   "execution_count": 26,
   "id": "73be29da",
   "metadata": {},
   "outputs": [
    {
     "name": "stdout",
     "output_type": "stream",
     "text": [
      "1 3 4 "
     ]
    }
   ],
   "source": [
    "# Create the linked list for the first example\n",
    "head1 = ListNode(1)\n",
    "head1.next = ListNode(3)\n",
    "head1.next.next = ListNode(4)\n",
    "head1.next.next.next = head1.next\n",
    "\n",
    "# Remove the loop from the linked list\n",
    "head1 = detect_and_remove_loop(head1)\n",
    "\n",
    "# Print the modified linked list for the first example\n",
    "current1 = head1\n",
    "while current1 is not None:\n",
    "    print(current1.val, end=\" \")\n",
    "    current1 = current1.next\n"
   ]
  },
  {
   "cell_type": "markdown",
   "id": "8264fbdb",
   "metadata": {},
   "source": [
    "<aside>\n",
    "💡 **Question 6**\n",
    "\n",
    "Given a linked list and two integers M and N. Traverse the linked list such that you retain M nodes then delete next N nodes, continue the same till end of the linked list.\n",
    "\n",
    "Difficulty Level: Rookie\n",
    "    \n",
    "Input:\n",
    "M = 2, N = 2\n",
    "Linked List: 1->2->3->4->5->6->7->8\n",
    "Output:\n",
    "Linked List: 1->2->5->6\n",
    "\n",
    "Input:\n",
    "M = 3, N = 2\n",
    "Linked List: 1->2->3->4->5->6->7->8->9->10\n",
    "Output:\n",
    "Linked List: 1->2->3->6->7->8\n",
    "\n",
    "Input:\n",
    "M = 1, N = 1\n",
    "Linked List: 1->2->3->4->5->6->7->8->9->10\n",
    "Output:\n",
    "Linked List: 1->3->5->7->9\n",
    "\n",
    "</aside>"
   ]
  },
  {
   "cell_type": "code",
   "execution_count": 27,
   "id": "87bfda07",
   "metadata": {},
   "outputs": [],
   "source": [
    "class ListNode:\n",
    "    def __init__(self, val=0, next=None):\n",
    "        self.val = val\n",
    "        self.next = next\n",
    "\n",
    "def retain_delete(head, M, N):\n",
    "    if M == 0:\n",
    "        return None\n",
    "\n",
    "    current = head\n",
    "    prev = None\n",
    "\n",
    "    # Traverse the linked list\n",
    "    while current is not None:\n",
    "        # Retain M nodes\n",
    "        for _ in range(M):\n",
    "            if current is None:\n",
    "                return head\n",
    "            prev = current\n",
    "            current = current.next\n",
    "\n",
    "        # Delete N nodes\n",
    "        for _ in range(N):\n",
    "            if current is None:\n",
    "                break\n",
    "            current = current.next\n",
    "\n",
    "        # Connect the prev pointer to the next node after the deleted N nodes\n",
    "        prev.next = current\n",
    "\n",
    "    return head\n"
   ]
  },
  {
   "cell_type": "code",
   "execution_count": 28,
   "id": "5a4fd9d3",
   "metadata": {},
   "outputs": [
    {
     "name": "stdout",
     "output_type": "stream",
     "text": [
      "1 2 5 6 "
     ]
    }
   ],
   "source": [
    "# Create the linked list for the first example\n",
    "head1 = ListNode(1)\n",
    "head1.next = ListNode(2)\n",
    "head1.next.next = ListNode(3)\n",
    "head1.next.next.next = ListNode(4)\n",
    "head1.next.next.next.next = ListNode(5)\n",
    "head1.next.next.next.next.next = ListNode(6)\n",
    "head1.next.next.next.next.next.next = ListNode(7)\n",
    "head1.next.next.next.next.next.next.next = ListNode(8)\n",
    "\n",
    "# Retain M nodes and delete N nodes\n",
    "M = 2\n",
    "N = 2\n",
    "head1 = retain_delete(head1, M, N)\n",
    "\n",
    "# Print the modified linked list for the first example\n",
    "current1 = head1\n",
    "while current1 is not None:\n",
    "    print(current1.val, end=\" \")\n",
    "    current1 = current1.next\n"
   ]
  },
  {
   "cell_type": "markdown",
   "id": "b8d8dc6a",
   "metadata": {},
   "source": [
    "<aside>\n",
    "💡 **Question 7**\n",
    "\n",
    "Given two linked lists, insert nodes of second list into first list at alternate positions of first list.\n",
    "For example, if first list is 5->7->17->13->11 and second is 12->10->2->4->6, the first list should become 5->12->7->10->17->2->13->4->11->6 and second list should become empty. The nodes of second list should only be inserted when there are positions available. For example, if the first list is 1->2->3 and second list is 4->5->6->7->8, then first list should become 1->4->2->5->3->6 and second list to 7->8.\n",
    "\n",
    "Use of extra space is not allowed (Not allowed to create additional nodes), i.e., insertion must be done in-place. Expected time complexity is O(n) where n is number of nodes in first list.\n",
    "\n",
    "</aside>"
   ]
  },
  {
   "cell_type": "code",
   "execution_count": 30,
   "id": "1405ec9b",
   "metadata": {},
   "outputs": [],
   "source": [
    "class ListNode:\n",
    "    def __init__(self, val=0, next=None):\n",
    "        self.val = val\n",
    "        self.next = next\n",
    "\n",
    "def insert_at_alternate_positions(first_head, second_head):\n",
    "    if second_head is None:\n",
    "        return first_head\n",
    "\n",
    "    first_curr = first_head\n",
    "    second_curr = second_head\n",
    "\n",
    "    while first_curr is not None and second_curr is not None:\n",
    "        first_next = first_curr.next\n",
    "        second_next = second_curr.next\n",
    "\n",
    "        second_curr.next = first_next\n",
    "        first_curr.next = second_curr\n",
    "\n",
    "        first_curr = first_next\n",
    "        second_curr = second_next\n",
    "\n",
    "    if second_curr is not None:\n",
    "        first_curr.next = second_curr\n",
    "\n",
    "    second_head = None\n",
    "\n",
    "    return first_head\n"
   ]
  },
  {
   "cell_type": "code",
   "execution_count": 32,
   "id": "eb104af1",
   "metadata": {},
   "outputs": [
    {
     "name": "stdout",
     "output_type": "stream",
     "text": [
      "5 12 7 10 17 2 13 4 11 6 12 7 10 17 2 13 4 11 6 "
     ]
    }
   ],
   "source": [
    "# Create the first linked list for the first example\n",
    "first_head1 = ListNode(5)\n",
    "first_head1.next = ListNode(7)\n",
    "first_head1.next.next = ListNode(17)\n",
    "first_head1.next.next.next = ListNode(13)\n",
    "first_head1.next.next.next.next = ListNode(11)\n",
    "\n",
    "# Create the second linked list for the first example\n",
    "second_head1 = ListNode(12)\n",
    "second_head1.next = ListNode(10)\n",
    "second_head1.next.next = ListNode(2)\n",
    "second_head1.next.next.next = ListNode(4)\n",
    "second_head1.next.next.next.next = ListNode(6)\n",
    "\n",
    "# Insert nodes from the second linked list into alternate positions of the first linked list\n",
    "first_head1 = insert_at_alternate_positions(first_head1, second_head1)\n",
    "\n",
    "# Print the modified first linked list for the first example\n",
    "current1 = first_head1\n",
    "while current1 is not None:\n",
    "    print(current1.val, end=\" \")\n",
    "    current1 = current1.next\n",
    "\n",
    "# Print the modified second linked list for the first example\n",
    "current2 = second_head1\n",
    "while current2 is not None:\n",
    "    print(current2.val, end=\" \")\n",
    "    current2 = current2.next\n",
    "\n"
   ]
  },
  {
   "cell_type": "markdown",
   "id": "59a8aa11",
   "metadata": {},
   "source": [
    "<aside>\n",
    "💡 **Question 8**\n",
    "\n",
    "Given a singly linked list, find if the linked list is [circular](https://www.geeksforgeeks.org/circular-linked-list/amp/) or not.\n",
    "\n",
    "> A linked list is called circular if it is not NULL-terminated and all nodes are connected in the form of a cycle. Below is an example of a circular linked list.\n",
    "> \n",
    "</aside>"
   ]
  },
  {
   "cell_type": "code",
   "execution_count": 33,
   "id": "c81a5b0e",
   "metadata": {},
   "outputs": [],
   "source": [
    "class ListNode:\n",
    "    def __init__(self, val=0, next=None):\n",
    "        self.val = val\n",
    "        self.next = next\n",
    "\n",
    "def is_circular(head):\n",
    "    if head is None:\n",
    "        return False\n",
    "\n",
    "    slow = head\n",
    "    fast = head.next\n",
    "\n",
    "    while fast is not None and fast.next is not None:\n",
    "        if slow == fast:\n",
    "            return True\n",
    "        slow = slow.next\n",
    "        fast = fast.next.next\n",
    "\n",
    "    return False\n"
   ]
  },
  {
   "cell_type": "code",
   "execution_count": 34,
   "id": "1a43ce60",
   "metadata": {},
   "outputs": [
    {
     "name": "stdout",
     "output_type": "stream",
     "text": [
      "True\n"
     ]
    }
   ],
   "source": [
    "# Create a circular linked list for the example\n",
    "head = ListNode(1)\n",
    "head.next = ListNode(2)\n",
    "head.next.next = ListNode(3)\n",
    "head.next.next.next = ListNode(4)\n",
    "head.next.next.next.next = head  # Point the last node to the head, forming a cycle\n",
    "\n",
    "# Check if the linked list is circular\n",
    "circular = is_circular(head)\n",
    "print(circular)\n"
   ]
  },
  {
   "cell_type": "code",
   "execution_count": null,
   "id": "ec57cd34",
   "metadata": {},
   "outputs": [],
   "source": []
  }
 ],
 "metadata": {
  "kernelspec": {
   "display_name": "Python 3 (ipykernel)",
   "language": "python",
   "name": "python3"
  },
  "language_info": {
   "codemirror_mode": {
    "name": "ipython",
    "version": 3
   },
   "file_extension": ".py",
   "mimetype": "text/x-python",
   "name": "python",
   "nbconvert_exporter": "python",
   "pygments_lexer": "ipython3",
   "version": "3.9.12"
  }
 },
 "nbformat": 4,
 "nbformat_minor": 5
}

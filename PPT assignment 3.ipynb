{
 "cells": [
  {
   "cell_type": "markdown",
   "id": "7c5e4398",
   "metadata": {},
   "source": [
    "Question 1\n",
    "\n",
    "Given an integer array nums of length n and an integer target, find three integers\n",
    "in nums such that the sum is closest to the target.\n",
    "Return the sum of the three integers."
   ]
  },
  {
   "cell_type": "code",
   "execution_count": 1,
   "id": "8af3da90",
   "metadata": {},
   "outputs": [],
   "source": [
    "import itertools"
   ]
  },
  {
   "cell_type": "code",
   "execution_count": 2,
   "id": "9cb1fb12",
   "metadata": {},
   "outputs": [],
   "source": [
    "l=[-1,2,1,-4]"
   ]
  },
  {
   "cell_type": "code",
   "execution_count": 12,
   "id": "b6a3628b",
   "metadata": {},
   "outputs": [],
   "source": [
    "def closest_to_target(l,target):\n",
    "    sum_list=[]\n",
    "    for i in itertools.permutations(l,r=3):\n",
    "        if i[0]==-1:\n",
    "            sum_list.append(sum(i))\n",
    "    closest_sum=min(sum_list,key= lambda x: abs(x-target))\n",
    "    return closest_sum"
   ]
  },
  {
   "cell_type": "code",
   "execution_count": 13,
   "id": "e356ec19",
   "metadata": {},
   "outputs": [
    {
     "data": {
      "text/plain": [
       "2"
      ]
     },
     "execution_count": 13,
     "metadata": {},
     "output_type": "execute_result"
    }
   ],
   "source": [
    "closest_to_target(l,1)"
   ]
  },
  {
   "cell_type": "markdown",
   "id": "8b2059b8",
   "metadata": {},
   "source": [
    "Question 2\n",
    "\n",
    "Given an array nums of n integers, return an array of all the unique quadruplets\n",
    "\n",
    "[nums[a], nums[b], nums[c], nums[d]] such that:\n",
    "           \n",
    "           ● 0 <= a, b, c, d < n\n",
    "           \n",
    "           ● a, b, c, and d are distinct.\n",
    "           \n",
    "           ● nums[a] + nums[b] + nums[c] + nums[d] == target\n",
    "\n",
    "You may return the answer in any orde"
   ]
  },
  {
   "cell_type": "code",
   "execution_count": 24,
   "id": "66f1a10a",
   "metadata": {},
   "outputs": [],
   "source": [
    "def pair_with_sum_0(l,target):\n",
    "    l1=[]\n",
    "    for i in itertools.combinations(sorted(l),4):\n",
    "        if sum(i)==target:\n",
    "            l1.append(list(i))\n",
    "    return l1\n"
   ]
  },
  {
   "cell_type": "code",
   "execution_count": 25,
   "id": "d409436d",
   "metadata": {},
   "outputs": [
    {
     "data": {
      "text/plain": [
       "[[-2, -1, 1, 2], [-2, 0, 0, 2], [-1, 0, 0, 1]]"
      ]
     },
     "execution_count": 25,
     "metadata": {},
     "output_type": "execute_result"
    }
   ],
   "source": [
    "pair_with_sum_0([1,0,-1,0,-2,2],0)"
   ]
  },
  {
   "cell_type": "markdown",
   "id": "e946f07b",
   "metadata": {},
   "source": [
    "Question 3\n",
    "A permutation of an array of integers is an arrangement of its members into a\n",
    "sequence or linear order.\n",
    "\n",
    "For example, for arr = [1,2,3], the following are all the permutations of arr:\n",
    "[1,2,3], [1,3,2], [2, 1, 3], [2, 3, 1], [3,1,2], [3,2,1].\n",
    "\n",
    "The next permutation of an array of integers is the next lexicographically greater\n",
    "permutation of its integer. More formally, if all the permutations of the array are\n",
    "sorted in one container according to their lexicographical order, then the next\n",
    "permutation of that array is the permutation that follows it in the sorted container.\n",
    "\n",
    "If such an arrangement is not possible, the array must be rearranged as the\n",
    "lowest possible order (i.e., sorted in ascending order).\n",
    "\n",
    "●For example, the next permutation of arr = [1,2,3] is [1,3,2].\n",
    "\n",
    "●Similarly, the next permutation of arr = [2,3,1] is [3,1,2].\n",
    "\n",
    "● While the next permutation of arr = [3,2,1] is [1,2,3] because [3,2,1] does not\n",
    "have a lexicographical larger rearrangement.\n",
    "\n",
    "Given an array of integers nums, find the next permutation of nums.\n",
    "The replacement must be in place and use only constant extra memory.\n",
    "\n"
   ]
  },
  {
   "cell_type": "code",
   "execution_count": 43,
   "id": "5b4e3992",
   "metadata": {},
   "outputs": [],
   "source": [
    "def next_permutation(l,value):\n",
    "    l1=[]\n",
    "    for i in itertools.permutations(l):\n",
    "        l1.append(list(i))\n",
    "    for j in range(len(l1)):\n",
    "        if l1[j]==value:\n",
    "            try:\n",
    "                return l1[j+1]\n",
    "            except:\n",
    "                return f\"{value} is the last indexed element in list)\"\n",
    "    "
   ]
  },
  {
   "cell_type": "code",
   "execution_count": 44,
   "id": "eab0fd7a",
   "metadata": {},
   "outputs": [
    {
     "data": {
      "text/plain": [
       "'[3, 2, 1] is the last indexed element in list)'"
      ]
     },
     "execution_count": 44,
     "metadata": {},
     "output_type": "execute_result"
    }
   ],
   "source": [
    "next_permutation(l=[1,2,3],value=[3,2,1])"
   ]
  },
  {
   "cell_type": "code",
   "execution_count": 45,
   "id": "a3443f9e",
   "metadata": {},
   "outputs": [
    {
     "data": {
      "text/plain": [
       "[2, 1, 3]"
      ]
     },
     "execution_count": 45,
     "metadata": {},
     "output_type": "execute_result"
    }
   ],
   "source": [
    "next_permutation(l=[1,2,3],value=[1,3,2])"
   ]
  },
  {
   "cell_type": "markdown",
   "id": "275ed496",
   "metadata": {},
   "source": [
    "Question 4\n",
    "\n",
    "Given a sorted array of distinct integers and a target value, return the index if the\n",
    "target is found. If not, return the index where it would be if it were inserted in\n",
    "order.\n",
    "\n",
    "You must write an algorithm with O(log n) runtime complexity.\n",
    "\n"
   ]
  },
  {
   "cell_type": "code",
   "execution_count": 46,
   "id": "a68aea7b",
   "metadata": {},
   "outputs": [],
   "source": [
    "def index_of_element(l,element):\n",
    "    return l.index(element)"
   ]
  },
  {
   "cell_type": "code",
   "execution_count": 47,
   "id": "fea8861b",
   "metadata": {},
   "outputs": [
    {
     "data": {
      "text/plain": [
       "2"
      ]
     },
     "execution_count": 47,
     "metadata": {},
     "output_type": "execute_result"
    }
   ],
   "source": [
    "index_of_element([1,2,5,6],5)"
   ]
  },
  {
   "cell_type": "code",
   "execution_count": 48,
   "id": "2e194060",
   "metadata": {},
   "outputs": [],
   "source": [
    "l=[1,2,3]\n"
   ]
  },
  {
   "cell_type": "code",
   "execution_count": 49,
   "id": "71062f20",
   "metadata": {},
   "outputs": [
    {
     "data": {
      "text/plain": [
       "'[1, 2, 3]'"
      ]
     },
     "execution_count": 49,
     "metadata": {},
     "output_type": "execute_result"
    }
   ],
   "source": [
    "str(l)"
   ]
  },
  {
   "cell_type": "code",
   "execution_count": 51,
   "id": "928f4e8b",
   "metadata": {},
   "outputs": [
    {
     "data": {
      "text/plain": [
       "124"
      ]
     },
     "execution_count": 51,
     "metadata": {},
     "output_type": "execute_result"
    }
   ],
   "source": [
    "int(str(1)+str(2)+str(3))+1"
   ]
  },
  {
   "cell_type": "code",
   "execution_count": 67,
   "id": "29dfa40c",
   "metadata": {},
   "outputs": [],
   "source": [
    "def list_add_by_1(l,add):\n",
    "    for i in range(len(l)):\n",
    "        value=int(str(l[i])+str(l[i+1])+str(l[i+2]))\n",
    "        value+=add\n",
    "        break\n",
    "    digits=[int(char) for char in str(value)]\n",
    "    return digits"
   ]
  },
  {
   "cell_type": "code",
   "execution_count": 68,
   "id": "dd88701a",
   "metadata": {},
   "outputs": [
    {
     "data": {
      "text/plain": [
       "[1, 2, 4]"
      ]
     },
     "execution_count": 68,
     "metadata": {},
     "output_type": "execute_result"
    }
   ],
   "source": [
    "list_add_by_1([1,2,3],1)"
   ]
  },
  {
   "cell_type": "code",
   "execution_count": 70,
   "id": "f6d8f424",
   "metadata": {},
   "outputs": [
    {
     "data": {
      "text/plain": [
       "[4, 0, 1]"
      ]
     },
     "execution_count": 70,
     "metadata": {},
     "output_type": "execute_result"
    }
   ],
   "source": [
    "list_add_by_1([3,9,7],4)"
   ]
  },
  {
   "cell_type": "markdown",
   "id": "a32bc33f",
   "metadata": {},
   "source": [
    "Question 6\n",
    "\n",
    "Given a non-empty array of integers nums, every element appears twice except\n",
    "for one. Find that single one."
   ]
  },
  {
   "cell_type": "code",
   "execution_count": 79,
   "id": "13218959",
   "metadata": {},
   "outputs": [],
   "source": [
    "def isCountOne(l,number):\n",
    "    if l.count(number)==1:\n",
    "        return number\n",
    "    else:\n",
    "        return \"all elements in the list has count more than 1\""
   ]
  },
  {
   "cell_type": "code",
   "execution_count": 80,
   "id": "2fab55fa",
   "metadata": {},
   "outputs": [
    {
     "data": {
      "text/plain": [
       "1"
      ]
     },
     "execution_count": 80,
     "metadata": {},
     "output_type": "execute_result"
    }
   ],
   "source": [
    "isCountOne([2,2,1],1)"
   ]
  },
  {
   "cell_type": "code",
   "execution_count": 82,
   "id": "f920fe4f",
   "metadata": {},
   "outputs": [
    {
     "data": {
      "text/plain": [
       "'all elements in the list has count more than 1'"
      ]
     },
     "execution_count": 82,
     "metadata": {},
     "output_type": "execute_result"
    }
   ],
   "source": [
    "isCountOne([2,2,2,3,3,4,4],4)"
   ]
  },
  {
   "cell_type": "code",
   "execution_count": null,
   "id": "0cb813a6",
   "metadata": {},
   "outputs": [],
   "source": []
  }
 ],
 "metadata": {
  "kernelspec": {
   "display_name": "Python 3 (ipykernel)",
   "language": "python",
   "name": "python3"
  },
  "language_info": {
   "codemirror_mode": {
    "name": "ipython",
    "version": 3
   },
   "file_extension": ".py",
   "mimetype": "text/x-python",
   "name": "python",
   "nbconvert_exporter": "python",
   "pygments_lexer": "ipython3",
   "version": "3.9.12"
  }
 },
 "nbformat": 4,
 "nbformat_minor": 5
}

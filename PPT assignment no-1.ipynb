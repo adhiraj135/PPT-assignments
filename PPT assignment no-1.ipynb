{
 "cells": [
  {
   "cell_type": "markdown",
   "id": "e5360ada",
   "metadata": {},
   "source": [
    "Q1.Given an array of integers nums and an integer target, return indices of the two numbers such that they add up to target.\n",
    "\n",
    "You may assume that each input would have exactly one solution, and you may not use the same element twice.\n"
   ]
  },
  {
   "cell_type": "code",
   "execution_count": 72,
   "id": "e87431d6",
   "metadata": {},
   "outputs": [],
   "source": [
    "l=[2,7,11,15]"
   ]
  },
  {
   "cell_type": "code",
   "execution_count": 82,
   "id": "a390c42a",
   "metadata": {},
   "outputs": [],
   "source": [
    "def target_addidtion_in_list(l,target):\n",
    "    index=[]\n",
    "    for i in l:\n",
    "        for j in l:\n",
    "            if i+j==target:\n",
    "                index.append(l.index(i))\n",
    "                index.append(l.index(j))\n",
    "    \n",
    "        \n",
    "    return index\n",
    "    \n",
    "    \n",
    "    \n",
    "    \n",
    "    "
   ]
  },
  {
   "cell_type": "code",
   "execution_count": 83,
   "id": "d6c4370c",
   "metadata": {},
   "outputs": [
    {
     "data": {
      "text/plain": [
       "[1, 3, 2, 2, 3, 1]"
      ]
     },
     "execution_count": 83,
     "metadata": {},
     "output_type": "execute_result"
    }
   ],
   "source": [
    "target_addidtion_in_list(l,22)"
   ]
  },
  {
   "cell_type": "code",
   "execution_count": 52,
   "id": "69b2e55c",
   "metadata": {},
   "outputs": [],
   "source": [
    "l=[1, 2, 2, 1]"
   ]
  },
  {
   "cell_type": "code",
   "execution_count": 53,
   "id": "4bdbdd01",
   "metadata": {},
   "outputs": [
    {
     "data": {
      "text/plain": [
       "2"
      ]
     },
     "execution_count": 53,
     "metadata": {},
     "output_type": "execute_result"
    }
   ],
   "source": [
    "l.count(1)"
   ]
  },
  {
   "cell_type": "code",
   "execution_count": 67,
   "id": "f3d2ddd4",
   "metadata": {},
   "outputs": [
    {
     "name": "stdout",
     "output_type": "stream",
     "text": [
      "[1, 2]\n"
     ]
    }
   ],
   "source": [
    "for i in l:\n",
    "    if l.count(i)>1:\n",
    "        l.remove(i)\n",
    "print(l[::-1])"
   ]
  },
  {
   "cell_type": "code",
   "execution_count": 63,
   "id": "14989ba2",
   "metadata": {},
   "outputs": [],
   "source": [
    "l.reverse()"
   ]
  },
  {
   "cell_type": "code",
   "execution_count": 64,
   "id": "647c3dea",
   "metadata": {},
   "outputs": [
    {
     "data": {
      "text/plain": [
       "[2, 1]"
      ]
     },
     "execution_count": 64,
     "metadata": {},
     "output_type": "execute_result"
    }
   ],
   "source": [
    "l"
   ]
  },
  {
   "cell_type": "code",
   "execution_count": 65,
   "id": "fd660a27",
   "metadata": {},
   "outputs": [
    {
     "data": {
      "text/plain": [
       "[2, 1]"
      ]
     },
     "execution_count": 65,
     "metadata": {},
     "output_type": "execute_result"
    }
   ],
   "source": [
    "l"
   ]
  },
  {
   "cell_type": "code",
   "execution_count": 66,
   "id": "3d0185fc",
   "metadata": {},
   "outputs": [
    {
     "data": {
      "text/plain": [
       "[1, 2]"
      ]
     },
     "execution_count": 66,
     "metadata": {},
     "output_type": "execute_result"
    }
   ],
   "source": [
    "l[::-1]"
   ]
  },
  {
   "cell_type": "code",
   "execution_count": 84,
   "id": "b11cd59f",
   "metadata": {},
   "outputs": [],
   "source": [
    "arr={3,5,10,8}"
   ]
  },
  {
   "cell_type": "code",
   "execution_count": 85,
   "id": "affa56ad",
   "metadata": {},
   "outputs": [
    {
     "data": {
      "text/plain": [
       "3"
      ]
     },
     "execution_count": 85,
     "metadata": {},
     "output_type": "execute_result"
    }
   ],
   "source": [
    "min(arr)"
   ]
  },
  {
   "cell_type": "code",
   "execution_count": 86,
   "id": "7e18defc",
   "metadata": {},
   "outputs": [
    {
     "data": {
      "text/plain": [
       "10"
      ]
     },
     "execution_count": 86,
     "metadata": {},
     "output_type": "execute_result"
    }
   ],
   "source": [
    "max(arr)"
   ]
  },
  {
   "cell_type": "code",
   "execution_count": 88,
   "id": "a2a3f115",
   "metadata": {},
   "outputs": [
    {
     "name": "stdout",
     "output_type": "stream",
     "text": [
      "8\n",
      "10\n",
      "3\n",
      "5\n"
     ]
    }
   ],
   "source": [
    "for i in arr:\n",
    "    lis"
   ]
  },
  {
   "cell_type": "code",
   "execution_count": 89,
   "id": "eaff326f",
   "metadata": {},
   "outputs": [],
   "source": [
    "l=[7,1,5,6,4]"
   ]
  },
  {
   "cell_type": "code",
   "execution_count": 95,
   "id": "76e93fcf",
   "metadata": {},
   "outputs": [
    {
     "name": "stdout",
     "output_type": "stream",
     "text": [
      "6\n"
     ]
    }
   ],
   "source": [
    "profit=[]\n",
    "for i in l: \n",
    "    for j in l:\n",
    "        profit.append(i-j)\n",
    "    \n",
    "print(max(profit))"
   ]
  },
  {
   "cell_type": "code",
   "execution_count": 111,
   "id": "7c6774f3",
   "metadata": {},
   "outputs": [],
   "source": [
    "class min_max:\n",
    "    def __init__(self,list_of_selling_amount):\n",
    "        self.selling_amount=list_of_selling_amount\n",
    "    \n",
    "    def min_max_detection(self):\n",
    "        profit=[]\n",
    "        for i in self.selling_amount:\n",
    "            for j in self.selling_amount:\n",
    "                profit.append(i-j)\n",
    "        return max(profit)\n",
    "                "
   ]
  },
  {
   "cell_type": "code",
   "execution_count": 112,
   "id": "5bf102a0",
   "metadata": {},
   "outputs": [],
   "source": [
    "obj=min_max([7,1,5,6,4])"
   ]
  },
  {
   "cell_type": "code",
   "execution_count": 113,
   "id": "4ed89fb1",
   "metadata": {},
   "outputs": [
    {
     "data": {
      "text/plain": [
       "6"
      ]
     },
     "execution_count": 113,
     "metadata": {},
     "output_type": "execute_result"
    }
   ],
   "source": [
    "obj.min_max_detection()"
   ]
  },
  {
   "cell_type": "code",
   "execution_count": 133,
   "id": "9e7363a2",
   "metadata": {},
   "outputs": [],
   "source": [
    "class min_max:\n",
    "    \n",
    "    def min_max_detection(self,selling_amounts):\n",
    "        profit=[]\n",
    "        for i in selling_amounts:\n",
    "            for j in selling_amounts:\n",
    "                profit.append(i-j)\n",
    "        return max(profit)"
   ]
  },
  {
   "cell_type": "code",
   "execution_count": 134,
   "id": "7fb9df53",
   "metadata": {},
   "outputs": [],
   "source": [
    "obj=min_max()"
   ]
  },
  {
   "cell_type": "code",
   "execution_count": 135,
   "id": "4cb8464a",
   "metadata": {},
   "outputs": [
    {
     "data": {
      "text/plain": [
       "42"
      ]
     },
     "execution_count": 135,
     "metadata": {},
     "output_type": "execute_result"
    }
   ],
   "source": [
    "obj.min_max_detection([10,30,23,12,50,8])"
   ]
  },
  {
   "cell_type": "code",
   "execution_count": 127,
   "id": "7cbe8e2c",
   "metadata": {},
   "outputs": [],
   "source": [
    "l=[10,30,23,12,50,8]"
   ]
  },
  {
   "cell_type": "code",
   "execution_count": 128,
   "id": "d96bf4e4",
   "metadata": {},
   "outputs": [
    {
     "name": "stdout",
     "output_type": "stream",
     "text": [
      "42\n"
     ]
    }
   ],
   "source": [
    "profit=[]\n",
    "for i in l:\n",
    "    for j in l:\n",
    "        profit.append(i-j)\n",
    "print(max(profit)) "
   ]
  },
  {
   "cell_type": "code",
   "execution_count": 136,
   "id": "52688af2",
   "metadata": {},
   "outputs": [],
   "source": [
    "triplet=[-1,0,1,2,-1,-4]"
   ]
  },
  {
   "cell_type": "code",
   "execution_count": 144,
   "id": "29f2fd88",
   "metadata": {},
   "outputs": [
    {
     "ename": "TypeError",
     "evalue": "list expected at most 1 argument, got 3",
     "output_type": "error",
     "traceback": [
      "\u001b[1;31m---------------------------------------------------------------------------\u001b[0m",
      "\u001b[1;31mTypeError\u001b[0m                                 Traceback (most recent call last)",
      "Input \u001b[1;32mIn [144]\u001b[0m, in \u001b[0;36m<cell line: 2>\u001b[1;34m()\u001b[0m\n\u001b[0;32m      5\u001b[0m \u001b[38;5;28;01mif\u001b[39;00m i\u001b[38;5;241m!=\u001b[39mj \u001b[38;5;241m|\u001b[39m j\u001b[38;5;241m!=\u001b[39mk \u001b[38;5;241m|\u001b[39m k\u001b[38;5;241m!=\u001b[39mi:\n\u001b[0;32m      6\u001b[0m     \u001b[38;5;28;01mif\u001b[39;00m i\u001b[38;5;241m+\u001b[39mj\u001b[38;5;241m+\u001b[39mk\u001b[38;5;241m==\u001b[39m\u001b[38;5;241m0\u001b[39m:\n\u001b[1;32m----> 7\u001b[0m         \u001b[38;5;28mprint\u001b[39m(\u001b[38;5;28;43mlist\u001b[39;49m\u001b[43m(\u001b[49m\u001b[43mi\u001b[49m\u001b[43m,\u001b[49m\u001b[43mj\u001b[49m\u001b[43m,\u001b[49m\u001b[43mk\u001b[49m\u001b[43m)\u001b[49m)\n",
      "\u001b[1;31mTypeError\u001b[0m: list expected at most 1 argument, got 3"
     ]
    }
   ],
   "source": [
    "output=[]\n",
    "for i in triplet:\n",
    "    for j in triplet:\n",
    "        for k in triplet:\n",
    "            if i!=j | j!=k | k!=i:\n",
    "                if i+j+k==0:\n",
    "                    print\n",
    "               \n",
    "                "
   ]
  },
  {
   "cell_type": "code",
   "execution_count": 152,
   "id": "a62f675c",
   "metadata": {},
   "outputs": [],
   "source": [
    "k=[23,4,535,12,15]"
   ]
  },
  {
   "cell_type": "code",
   "execution_count": 154,
   "id": "e3c32d24",
   "metadata": {},
   "outputs": [
    {
     "data": {
      "text/plain": [
       "[535, 23, 15, 12, 4]"
      ]
     },
     "execution_count": 154,
     "metadata": {},
     "output_type": "execute_result"
    }
   ],
   "source": [
    "sorted(k,reverse=True)[]"
   ]
  },
  {
   "cell_type": "markdown",
   "id": "df44e23c",
   "metadata": {},
   "source": [
    "Q8. You have a set of integers s, which originally contains all the numbers from 1 to n. Unfortunately, due to some error, one of the numbers in s got duplicated to another number in the set, which results in repetition of one number and loss of another number.\n",
    "\n",
    "You are given an integer array nums representing the data status of this set after the error.\n",
    "\n",
    "Find the number that occurs twice and the number that is missing and return them in the form of an array.\n",
    "\n"
   ]
  },
  {
   "cell_type": "code",
   "execution_count": 182,
   "id": "8242625d",
   "metadata": {},
   "outputs": [],
   "source": [
    "def twice_occuring_and_missing(n,l):\n",
    "    output=[]\n",
    "    for i in range(1,n+1):\n",
    "        if l.count(i)==2:\n",
    "            output.append(i)\n",
    "    for i in range(1,n+1):\n",
    "        if i not in l:\n",
    "            output.append(i)\n",
    "            \n",
    "    return output\n",
    "    "
   ]
  },
  {
   "cell_type": "code",
   "execution_count": 183,
   "id": "3678aaf9",
   "metadata": {},
   "outputs": [
    {
     "data": {
      "text/plain": [
       "[4, 8, 3, 5, 7, 10]"
      ]
     },
     "execution_count": 183,
     "metadata": {},
     "output_type": "execute_result"
    }
   ],
   "source": [
    "twice_occuring_and_missing(10,[1,2,4,4,6,8,8,9])"
   ]
  },
  {
   "cell_type": "code",
   "execution_count": null,
   "id": "ee612d0d",
   "metadata": {},
   "outputs": [],
   "source": []
  },
  {
   "cell_type": "code",
   "execution_count": null,
   "id": "1cdc16ab",
   "metadata": {},
   "outputs": [],
   "source": []
  }
 ],
 "metadata": {
  "kernelspec": {
   "display_name": "Python 3 (ipykernel)",
   "language": "python",
   "name": "python3"
  },
  "language_info": {
   "codemirror_mode": {
    "name": "ipython",
    "version": 3
   },
   "file_extension": ".py",
   "mimetype": "text/x-python",
   "name": "python",
   "nbconvert_exporter": "python",
   "pygments_lexer": "ipython3",
   "version": "3.9.12"
  }
 },
 "nbformat": 4,
 "nbformat_minor": 5
}

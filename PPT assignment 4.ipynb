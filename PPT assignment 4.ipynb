{
 "cells": [
  {
   "cell_type": "markdown",
   "id": "c3d12373",
   "metadata": {},
   "source": [
    "Question 1\n",
    "\n",
    "Given three integer arrays arr1, arr2 and arr3 sorted in strictly increasing order, return a sorted array of only the integers that appeared in all three arrays.\n"
   ]
  },
  {
   "cell_type": "code",
   "execution_count": 31,
   "id": "db3c7e5d",
   "metadata": {},
   "outputs": [],
   "source": [
    "def is_increasing_order(arr1,arr2,arr3):\n",
    "    l=[]\n",
    "    if (arr1 == sorted(arr1)) | (arr1 == sorted(arr1)) | (arr1 == sorted(arr1)):\n",
    "        for i in arr1:\n",
    "            if i in arr2:\n",
    "                if i in arr3:\n",
    "                    l.append(i)\n",
    "        return l\n",
    "        \n",
    "    else:\n",
    "        return \"all arrays are nor sorted\"\n",
    "        \n",
    "        "
   ]
  },
  {
   "cell_type": "code",
   "execution_count": 32,
   "id": "7d1df038",
   "metadata": {},
   "outputs": [
    {
     "data": {
      "text/plain": [
       "[1, 5]"
      ]
     },
     "execution_count": 32,
     "metadata": {},
     "output_type": "execute_result"
    }
   ],
   "source": [
    "is_increasing_order([1,2,3,4,5],[1,2,5,7,8,9],[1,5,6,10,11])"
   ]
  },
  {
   "cell_type": "markdown",
   "id": "db04e1ac",
   "metadata": {},
   "source": [
    "Question 2\n",
    "\n",
    "Given two **0-indexed** integer arrays nums1 and nums2, return *a list* answer *of size* 2 *where:*\n",
    "\n",
    "- answer[0] *is a list of all **distinct** integers in* nums1 *which are **not** present in* nums2*.*\n",
    "- answer[1] *is a list of all **distinct** integers in* nums2 *which are **not** present in* nums1.\n",
    "\n",
    "**Note** that the integers in the lists may be returned in **any** order.\n",
    "\n",
    "</aside>"
   ]
  },
  {
   "cell_type": "code",
   "execution_count": 35,
   "id": "69248573",
   "metadata": {},
   "outputs": [],
   "source": [
    "def missing_compared_values(nums1,nums2):\n",
    "    l1=[]\n",
    "    l2=[]\n",
    "    l=[]\n",
    "    for i in nums1:\n",
    "        if i not in nums2:\n",
    "            l1.append(i)\n",
    "    for j in nums2:\n",
    "        if j not in nums1:\n",
    "            l2.append(j)\n",
    "    l.append(l1)\n",
    "    l.append(l2)\n",
    "    return l"
   ]
  },
  {
   "cell_type": "code",
   "execution_count": 36,
   "id": "ad18ef61",
   "metadata": {},
   "outputs": [
    {
     "data": {
      "text/plain": [
       "[[1, 3], [4, 6]]"
      ]
     },
     "execution_count": 36,
     "metadata": {},
     "output_type": "execute_result"
    }
   ],
   "source": [
    "missing_compared_values([1,2,3],[2,4,6])"
   ]
  },
  {
   "cell_type": "markdown",
   "id": "f938ad7b",
   "metadata": {},
   "source": [
    "Question 3\n",
    "\n",
    "Given a 2D integer array matrix, return *the **transpose** of* matrix.\n",
    "\n",
    "The **transpose** of a matrix is the matrix flipped over its main diagonal, switching the matrix's row and column indices.\n",
    "\n",
    "</aside>"
   ]
  },
  {
   "cell_type": "code",
   "execution_count": 37,
   "id": "36d029d1",
   "metadata": {},
   "outputs": [],
   "source": [
    "import numpy as np"
   ]
  },
  {
   "cell_type": "code",
   "execution_count": 52,
   "id": "fae79cb6",
   "metadata": {},
   "outputs": [],
   "source": [
    "def matrix_transpose(matrix):\n",
    "    return np.matrix(matrix).T"
   ]
  },
  {
   "cell_type": "code",
   "execution_count": 53,
   "id": "adcc8682",
   "metadata": {},
   "outputs": [
    {
     "data": {
      "text/plain": [
       "matrix([[1, 4, 7],\n",
       "        [2, 5, 8],\n",
       "        [3, 6, 9]])"
      ]
     },
     "execution_count": 53,
     "metadata": {},
     "output_type": "execute_result"
    }
   ],
   "source": [
    "matrix_transpose([[1,2,3],\n",
    "                [4,5,6],\n",
    "                [7,8,9]])"
   ]
  },
  {
   "cell_type": "markdown",
   "id": "accac42b",
   "metadata": {},
   "source": [
    "Question 6**\n",
    "Given an integer array nums sorted in **non-decreasing** order, return *an array of **the squares of each number** sorted in non-decreasing order*.\n",
    "\n",
    "**Example 1:**\n",
    "\n",
    "Input: nums = [-4,-1,0,3,10]\n",
    "\n",
    "Output: [0,1,9,16,100]\n",
    "\n",
    "**Explanation:** After squaring, the array becomes [16,1,0,9,100].\n",
    "After sorting, it becomes [0,1,9,16,100]\n",
    "\n",
    "</aside>"
   ]
  },
  {
   "cell_type": "code",
   "execution_count": 13,
   "id": "8e21ea1f",
   "metadata": {},
   "outputs": [],
   "source": [
    "def list_of_squares(nums):\n",
    "    l=[]\n",
    "    if nums==sorted(nums):\n",
    "        for i in nums:\n",
    "            l.append(i**2)\n",
    "    else:\n",
    "        return \"list is not in non_decreasing order\"\n",
    "    return sorted(l)\n",
    "        "
   ]
  },
  {
   "cell_type": "code",
   "execution_count": 14,
   "id": "d24ff028",
   "metadata": {},
   "outputs": [
    {
     "data": {
      "text/plain": [
       "[0, 1, 9, 16, 100]"
      ]
     },
     "execution_count": 14,
     "metadata": {},
     "output_type": "execute_result"
    }
   ],
   "source": [
    "list_of_squares([-4,-1,0,3,10])"
   ]
  },
  {
   "cell_type": "code",
   "execution_count": 15,
   "id": "7e25b8d0",
   "metadata": {},
   "outputs": [
    {
     "data": {
      "text/plain": [
       "'list is not in non_decreasing order'"
      ]
     },
     "execution_count": 15,
     "metadata": {},
     "output_type": "execute_result"
    }
   ],
   "source": [
    "list_of_squares([5,-1,0,3,10])"
   ]
  },
  {
   "cell_type": "markdown",
   "id": "fc003493",
   "metadata": {},
   "source": [
    " **Question 8**\n",
    "\n",
    "Given the array nums consisting of 2n elements in the form [x1,x2,...,xn,y1,y2,...,yn].\n",
    "\n",
    "*Return the array in the form* [x1,y1,x2,y2,...,xn,yn].\n",
    "\n",
    "**Example 1:**\n",
    "\n",
    "**Input:** nums = [2,5,1,3,4,7], n = 3\n",
    "\n",
    "**Output:** [2,3,5,4,1,7]\n",
    "\n",
    "</aside>"
   ]
  },
  {
   "cell_type": "code",
   "execution_count": 16,
   "id": "ea13ff35",
   "metadata": {},
   "outputs": [],
   "source": [
    "def rearrange_array(nums, n):\n",
    "    result = []\n",
    "    for i in range(n):\n",
    "        result.append(nums[i])\n",
    "        result.append(nums[i + n])\n",
    "    return result"
   ]
  },
  {
   "cell_type": "code",
   "execution_count": 17,
   "id": "497f9422",
   "metadata": {},
   "outputs": [
    {
     "data": {
      "text/plain": [
       "[2, 3, 5, 4, 1, 7]"
      ]
     },
     "execution_count": 17,
     "metadata": {},
     "output_type": "execute_result"
    }
   ],
   "source": [
    "rearrange_array(nums = [2,5,1,3,4,7], n = 3)"
   ]
  },
  {
   "cell_type": "code",
   "execution_count": null,
   "id": "d97bddc6",
   "metadata": {},
   "outputs": [],
   "source": []
  }
 ],
 "metadata": {
  "kernelspec": {
   "display_name": "Python 3 (ipykernel)",
   "language": "python",
   "name": "python3"
  },
  "language_info": {
   "codemirror_mode": {
    "name": "ipython",
    "version": 3
   },
   "file_extension": ".py",
   "mimetype": "text/x-python",
   "name": "python",
   "nbconvert_exporter": "python",
   "pygments_lexer": "ipython3",
   "version": "3.9.12"
  }
 },
 "nbformat": 4,
 "nbformat_minor": 5
}

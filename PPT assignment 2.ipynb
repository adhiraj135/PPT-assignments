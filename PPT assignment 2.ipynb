{
 "cells": [
  {
   "cell_type": "markdown",
   "id": "df0078bb",
   "metadata": {},
   "source": [
    "Question 2\n",
    "Alice has n candies, where the ith candy is of type candyType[i]. Alice noticed that she started to gain weight, so she visited a doctor. \n",
    "\n",
    "The doctor advised Alice to only eat n / 2 of the candies she has (n is always even). Alice likes her candies very much, and she wants to eat the maximum number of different types of candies while still following the doctor's advice. \n",
    "\n",
    "Given the integer array candyType of length n, return the maximum number of different types of candies she can eat if she only eats n / 2 of them.\n"
   ]
  },
  {
   "cell_type": "markdown",
   "id": "4b93ef8e",
   "metadata": {},
   "source": [
    "def max_candies(candyType):\n",
    "    n_candies=[]\n",
    "    for i in candyType:\n",
    "        n_candies.append(i*2) \n",
    "    return max(n_candies)\n",
    "    "
   ]
  },
  {
   "cell_type": "code",
   "execution_count": 87,
   "id": "d782796d",
   "metadata": {},
   "outputs": [],
   "source": [
    "candyType = [1,1,2,2,3,3]"
   ]
  },
  {
   "cell_type": "code",
   "execution_count": 88,
   "id": "35fc3dd8",
   "metadata": {},
   "outputs": [
    {
     "data": {
      "text/plain": [
       "6"
      ]
     },
     "execution_count": 88,
     "metadata": {},
     "output_type": "execute_result"
    }
   ],
   "source": [
    "max_candies(candyType)"
   ]
  },
  {
   "cell_type": "markdown",
   "id": "35b4cf6a",
   "metadata": {},
   "source": [
    "Question 5\n",
    "Given an integer array nums, find three numbers whose product is maximum and return the maximum product.\n",
    "\n"
   ]
  },
  {
   "cell_type": "code",
   "execution_count": 138,
   "id": "e8eb9fda",
   "metadata": {},
   "outputs": [],
   "source": [
    "def max_product_3(l,n):\n",
    "    l1=[]\n",
    "    for i in itertools.permutations(l,r=n):\n",
    "        l1.append(i[0]*i[1]*i[2])\n",
    "    return max(l1)\n"
   ]
  },
  {
   "cell_type": "code",
   "execution_count": 140,
   "id": "e9c403f0",
   "metadata": {},
   "outputs": [],
   "source": [
    "l=[1,4,52,15,123,51,61]"
   ]
  },
  {
   "cell_type": "code",
   "execution_count": 141,
   "id": "978ec9d0",
   "metadata": {},
   "outputs": [
    {
     "data": {
      "text/plain": [
       "390156"
      ]
     },
     "execution_count": 141,
     "metadata": {},
     "output_type": "execute_result"
    }
   ],
   "source": [
    "max_product_3(l,3)"
   ]
  },
  {
   "cell_type": "markdown",
   "id": "0ad88914",
   "metadata": {},
   "source": [
    "Question 6\n",
    "Given an array of integers nums which is sorted in ascending order, and an integer target,\n",
    "write a function to search target in nums. If target exists, then return its index. Otherwise,\n",
    "return -1."
   ]
  },
  {
   "cell_type": "code",
   "execution_count": 167,
   "id": "523aa009",
   "metadata": {},
   "outputs": [],
   "source": [
    "def is_existing(l,target):\n",
    "    count=0\n",
    "    index=1\n",
    "    for i in range(len(l)):\n",
    "        if sorted(l)[i]==target:\n",
    "            index=index*i\n",
    "            count=count+1\n",
    "    if count==1:\n",
    "        print(index)\n",
    "    else:\n",
    "        print(-1)\n",
    "    \n",
    "         \n",
    "    "
   ]
  },
  {
   "cell_type": "code",
   "execution_count": 170,
   "id": "4ff5f792",
   "metadata": {},
   "outputs": [
    {
     "name": "stdout",
     "output_type": "stream",
     "text": [
      "4\n"
     ]
    }
   ],
   "source": [
    "is_existing([-1,0,3,5,9,12],9)"
   ]
  },
  {
   "cell_type": "code",
   "execution_count": 171,
   "id": "fef3da02",
   "metadata": {},
   "outputs": [
    {
     "name": "stdout",
     "output_type": "stream",
     "text": [
      "-1\n"
     ]
    }
   ],
   "source": [
    "is_existing([-1,0,3,5,9,12],10)"
   ]
  },
  {
   "cell_type": "markdown",
   "id": "50a9238d",
   "metadata": {},
   "source": [
    "Question 7\n",
    "An array is monotonic if it is either monotone increasing or monotone decreasing.\n",
    "\n",
    "An array nums is monotone increasing if for all i <= j, nums[i] <= nums[j]. An array nums is\n",
    "monotone decreasing if for all i <= j, nums[i] >= nums[j].\n",
    "\n",
    "Given an integer array nums, return true if the given array is monotonic, or false otherwise"
   ]
  },
  {
   "cell_type": "code",
   "execution_count": 172,
   "id": "beff7aff",
   "metadata": {},
   "outputs": [],
   "source": [
    "def is_monotonic(l):\n",
    "    for i in range(len(l)-1):\n",
    "        print(i)"
   ]
  },
  {
   "cell_type": "code",
   "execution_count": 181,
   "id": "7c94821a",
   "metadata": {},
   "outputs": [],
   "source": [
    "l=[1,3,2,2,3]"
   ]
  },
  {
   "cell_type": "code",
   "execution_count": 186,
   "id": "69c0f470",
   "metadata": {},
   "outputs": [],
   "source": [
    "def is_monotonic(lst):\n",
    "    increasing = decreasing = True\n",
    "\n",
    "    for i in range(len(lst) - 1):\n",
    "        if lst[i] > lst[i + 1]:\n",
    "            increasing = False\n",
    "        if lst[i] < lst[i + 1]:\n",
    "            decreasing = False\n",
    "\n",
    "    return increasing or decreasing\n",
    "\n"
   ]
  },
  {
   "cell_type": "code",
   "execution_count": 188,
   "id": "f6c8a1f4",
   "metadata": {},
   "outputs": [
    {
     "data": {
      "text/plain": [
       "False"
      ]
     },
     "execution_count": 188,
     "metadata": {},
     "output_type": "execute_result"
    }
   ],
   "source": [
    "is_monotonic(l)"
   ]
  },
  {
   "cell_type": "markdown",
   "id": "8e5df2a1",
   "metadata": {},
   "source": [
    "Question 8\n",
    "\n",
    "You are given an integer array nums and an integer k.\n",
    "\n",
    "In one operation, you can choose any index i where 0 <= i < nums.length and change nums[i] to nums[i] + x where x is an integer from the range [-k, k]. You can apply this operation at most once for each index i.\n",
    "\n",
    "The score of nums is the difference between the maximum and minimum elements in nums.\n",
    "\n",
    "Return the minimum score of nums after applying the mentioned operation at most once for each index in it.\n"
   ]
  },
  {
   "cell_type": "code",
   "execution_count": 191,
   "id": "b3ddb7d4",
   "metadata": {},
   "outputs": [],
   "source": [
    "nums=[1]"
   ]
  },
  {
   "cell_type": "code",
   "execution_count": 194,
   "id": "d29dbfc9",
   "metadata": {},
   "outputs": [],
   "source": [
    "k=0\n",
    "for i in range(len(nums)):\n",
    "    nums[i]=k"
   ]
  },
  {
   "cell_type": "code",
   "execution_count": 195,
   "id": "9f4de2ba",
   "metadata": {},
   "outputs": [
    {
     "data": {
      "text/plain": [
       "[0]"
      ]
     },
     "execution_count": 195,
     "metadata": {},
     "output_type": "execute_result"
    }
   ],
   "source": [
    "nums"
   ]
  },
  {
   "cell_type": "code",
   "execution_count": 197,
   "id": "6a7f3766",
   "metadata": {},
   "outputs": [
    {
     "data": {
      "text/plain": [
       "0"
      ]
     },
     "execution_count": 197,
     "metadata": {},
     "output_type": "execute_result"
    }
   ],
   "source": [
    "max(nums)-min(nums)"
   ]
  },
  {
   "cell_type": "code",
   "execution_count": 205,
   "id": "af65e019",
   "metadata": {},
   "outputs": [],
   "source": [
    "def num_score(l,k):\n",
    "    for i in range(len(nums)):\n",
    "         nums[i]=k\n",
    "    return nums\n",
    "    "
   ]
  },
  {
   "cell_type": "code",
   "execution_count": 206,
   "id": "5eae3368",
   "metadata": {},
   "outputs": [
    {
     "data": {
      "text/plain": [
       "[4]"
      ]
     },
     "execution_count": 206,
     "metadata": {},
     "output_type": "execute_result"
    }
   ],
   "source": [
    "num_score([1,2,3,4,5],4)"
   ]
  },
  {
   "cell_type": "code",
   "execution_count": 200,
   "id": "95f7fa5b",
   "metadata": {},
   "outputs": [
    {
     "data": {
      "text/plain": [
       "[5]"
      ]
     },
     "execution_count": 200,
     "metadata": {},
     "output_type": "execute_result"
    }
   ],
   "source": [
    "nums"
   ]
  },
  {
   "cell_type": "code",
   "execution_count": null,
   "id": "e527d0b3",
   "metadata": {},
   "outputs": [],
   "source": []
  }
 ],
 "metadata": {
  "kernelspec": {
   "display_name": "Python 3 (ipykernel)",
   "language": "python",
   "name": "python3"
  },
  "language_info": {
   "codemirror_mode": {
    "name": "ipython",
    "version": 3
   },
   "file_extension": ".py",
   "mimetype": "text/x-python",
   "name": "python",
   "nbconvert_exporter": "python",
   "pygments_lexer": "ipython3",
   "version": "3.9.12"
  }
 },
 "nbformat": 4,
 "nbformat_minor": 5
}

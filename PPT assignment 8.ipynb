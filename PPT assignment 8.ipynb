{
 "cells": [
  {
   "cell_type": "markdown",
   "id": "8ddc193b",
   "metadata": {},
   "source": [
    "<aside>\n",
    "💡 **Question 1**\n",
    "\n",
    "Given two strings s1 and s2, return *the lowest **ASCII** sum of deleted characters to make two strings equal*.\n",
    "\n",
    "**Example 1:**\n",
    "\n",
    "**Input:** s1 = \"sea\", s2 = \"eat\"\n",
    "\n",
    "**Output:** 231\n",
    "\n",
    "**Explanation:** Deleting \"s\" from \"sea\" adds the ASCII value of \"s\" (115) to the sum.\n",
    "\n",
    "Deleting \"t\" from \"eat\" adds 116 to the sum.\n",
    "\n",
    "At the end, both strings are equal, and 115 + 116 = 231 is the minimum sum possible to achieve this.\n",
    "\n",
    "</aside>"
   ]
  },
  {
   "cell_type": "code",
   "execution_count": 4,
   "id": "5892cfec",
   "metadata": {},
   "outputs": [],
   "source": [
    "s1 = \"sea\" \n",
    "s2 = \"eat\""
   ]
  },
  {
   "cell_type": "code",
   "execution_count": 14,
   "id": "871ab5de",
   "metadata": {},
   "outputs": [],
   "source": [
    "def min_ascii_sum(s1,s2):\n",
    "    l=[]\n",
    "    for i in s1:\n",
    "        for j in s2:\n",
    "            if s1.replace(i,'')==s2.replace(j,''):\n",
    "                sum_ascii=ord(i)+ord(j)\n",
    "                l.append(sum_ascii)\n",
    "    return min(l)"
   ]
  },
  {
   "cell_type": "code",
   "execution_count": 15,
   "id": "353671e4",
   "metadata": {},
   "outputs": [
    {
     "data": {
      "text/plain": [
       "231"
      ]
     },
     "execution_count": 15,
     "metadata": {},
     "output_type": "execute_result"
    }
   ],
   "source": [
    "min_ascii_sum(s1 = \"sea\", s2 = \"eat\")"
   ]
  },
  {
   "cell_type": "markdown",
   "id": "fcd97caf",
   "metadata": {},
   "source": [
    "<aside>\n",
    "💡 **Question 2**\n",
    "\n",
    "Given a string s containing only three types of characters: '(', ')' and '*', return true *if* s *is **valid***.\n",
    "\n",
    "The following rules define a **valid** string:\n",
    "\n",
    "- Any left parenthesis '(' must have a corresponding right parenthesis ')'.\n",
    "- Any right parenthesis ')' must have a corresponding left parenthesis '('.\n",
    "- Left parenthesis '(' must go before the corresponding right parenthesis ')'.\n",
    "</aside>"
   ]
  },
  {
   "cell_type": "code",
   "execution_count": 44,
   "id": "31889a73",
   "metadata": {},
   "outputs": [],
   "source": [
    "def valid_str(s):\n",
    "    for i in list(s):\n",
    "        if list(s).count('(')==list(s).count(')'):\n",
    "            if s.index('(')<s.index(')'):\n",
    "                return True\n",
    "            else:\n",
    "                return False\n",
    "        else:\n",
    "            return False\n",
    "\n"
   ]
  },
  {
   "cell_type": "code",
   "execution_count": 45,
   "id": "19d5b9ed",
   "metadata": {},
   "outputs": [
    {
     "data": {
      "text/plain": [
       "True"
      ]
     },
     "execution_count": 45,
     "metadata": {},
     "output_type": "execute_result"
    }
   ],
   "source": [
    "valid_str(s = \"()\")"
   ]
  },
  {
   "cell_type": "markdown",
   "id": "ecf2eb21",
   "metadata": {},
   "source": [
    "<aside>\n",
    "💡 **Question 3**\n",
    "\n",
    "Given two strings word1 and word2, return *the minimum number of **steps** required to make* word1 *and* word2 *the same*.\n",
    "\n",
    "In one **step**, you can delete exactly one character in either string.\n",
    "\n",
    "**Example 1:**\n",
    "\n",
    "**Input:** word1 = \"sea\", word2 = \"eat\"\n",
    "\n",
    "**Output:** 2\n",
    "\n",
    "**Explanation:** You need one step to make \"sea\" to \"ea\" and another step to make \"eat\" to \"ea\".\n",
    "\n",
    "</aside>"
   ]
  },
  {
   "cell_type": "code",
   "execution_count": 58,
   "id": "3ba60b2d",
   "metadata": {},
   "outputs": [],
   "source": [
    "def steps_to_same(word1,word2):\n",
    "    l=[]\n",
    "    for i in word1:\n",
    "        if j in word2:\n",
    "            if word1.replace(i,'')==word2.replace(j,''):\n",
    "                l.append(i)\n",
    "                l.append(j)\n",
    "    return len(l)\n",
    "    "
   ]
  },
  {
   "cell_type": "code",
   "execution_count": 61,
   "id": "0faa122d",
   "metadata": {},
   "outputs": [
    {
     "data": {
      "text/plain": [
       "2"
      ]
     },
     "execution_count": 61,
     "metadata": {},
     "output_type": "execute_result"
    }
   ],
   "source": [
    "steps_to_same(word1 = \"sea\", word2 = \"eat\")"
   ]
  },
  {
   "cell_type": "code",
   "execution_count": 62,
   "id": "f81d84f2",
   "metadata": {},
   "outputs": [],
   "source": [
    "s = \"4(2(3)(1))(6(5))\""
   ]
  },
  {
   "cell_type": "code",
   "execution_count": 63,
   "id": "88e89b52",
   "metadata": {},
   "outputs": [
    {
     "data": {
      "text/plain": [
       "['4', '2', '3)', '1))', '6', '5))']"
      ]
     },
     "execution_count": 63,
     "metadata": {},
     "output_type": "execute_result"
    }
   ],
   "source": [
    "s.split('(')"
   ]
  },
  {
   "cell_type": "code",
   "execution_count": 103,
   "id": "dc4bd8cf",
   "metadata": {},
   "outputs": [],
   "source": [
    "def tree_to_list(s):\n",
    "    l=[]\n",
    "    for i in list(s.split('(')):\n",
    "        if ')' not in i:\n",
    "            l.append(int(i))\n",
    "    for i in list(s.split('(')):\n",
    "        if ')' in i:\n",
    "            l.append(int(i.replace(')','')))\n",
    "    return l\n",
    "        \n",
    "    \n",
    "    "
   ]
  },
  {
   "cell_type": "code",
   "execution_count": 104,
   "id": "6ae76a42",
   "metadata": {},
   "outputs": [
    {
     "data": {
      "text/plain": [
       "[4, 2, 6, 3, 1, 5]"
      ]
     },
     "execution_count": 104,
     "metadata": {},
     "output_type": "execute_result"
    }
   ],
   "source": [
    "tree_to_list(s)"
   ]
  },
  {
   "cell_type": "markdown",
   "id": "3472e545",
   "metadata": {},
   "source": [
    "<aside>\n",
    "💡 **Question 5**\n",
    "\n",
    "Given an array of characters chars, compress it using the following algorithm:\n",
    "\n",
    "Begin with an empty string s. For each group of **consecutive repeating characters** in chars:\n",
    "\n",
    "- If the group's length is 1, append the character to s.\n",
    "- Otherwise, append the character followed by the group's length.\n",
    "\n",
    "The compressed string s **should not be returned separately**, but instead, be stored **in the input character array chars**. Note that group lengths that are 10 or longer will be split into multiple characters in chars.\n",
    "\n",
    "After you are done **modifying the input array,** return *the new length of the array*.\n",
    "\n",
    "You must write an algorithm that uses only constant extra space.\n",
    "\n",
    "</aside>"
   ]
  },
  {
   "cell_type": "code",
   "execution_count": 105,
   "id": "bc3814b4",
   "metadata": {},
   "outputs": [],
   "source": [
    "chars = [\"a\",\"a\",\"b\",\"b\",\"c\",\"c\",\"c\"]"
   ]
  },
  {
   "cell_type": "code",
   "execution_count": 106,
   "id": "a68481bb",
   "metadata": {},
   "outputs": [
    {
     "data": {
      "text/plain": [
       "2"
      ]
     },
     "execution_count": 106,
     "metadata": {},
     "output_type": "execute_result"
    }
   ],
   "source": [
    "chars.count(\"a\")"
   ]
  },
  {
   "cell_type": "code",
   "execution_count": 107,
   "id": "8132ad31",
   "metadata": {},
   "outputs": [
    {
     "data": {
      "text/plain": [
       "0"
      ]
     },
     "execution_count": 107,
     "metadata": {},
     "output_type": "execute_result"
    }
   ],
   "source": [
    "chars.index(\"a\")"
   ]
  },
  {
   "cell_type": "code",
   "execution_count": 130,
   "id": "34d9b761",
   "metadata": {},
   "outputs": [],
   "source": [
    "def replace_str_with_count(chars):\n",
    "    dict={}\n",
    "    l=[]\n",
    "    for i in chars:\n",
    "        dict[i]=str(chars.count(i))\n",
    "    for i in dict.items():\n",
    "        l.append(i[0])\n",
    "        l.append(i[1])\n",
    "    return l\n",
    "        \n",
    "    \n",
    "    "
   ]
  },
  {
   "cell_type": "code",
   "execution_count": 131,
   "id": "2bc16e70",
   "metadata": {},
   "outputs": [
    {
     "data": {
      "text/plain": [
       "['a', '2', 'b', '2', 'c', '3']"
      ]
     },
     "execution_count": 131,
     "metadata": {},
     "output_type": "execute_result"
    }
   ],
   "source": [
    "replace_str_with_count(chars = [\"a\",\"a\",\"b\",\"b\",\"c\",\"c\",\"c\"])"
   ]
  },
  {
   "cell_type": "code",
   "execution_count": 121,
   "id": "2e89c388",
   "metadata": {},
   "outputs": [],
   "source": [
    "d={'a': 2, 'b': 2, 'c': 3}"
   ]
  },
  {
   "cell_type": "code",
   "execution_count": 129,
   "id": "c7c03620",
   "metadata": {},
   "outputs": [
    {
     "data": {
      "text/plain": [
       "['a', 2, 'b', 2, 'c', 3]"
      ]
     },
     "execution_count": 129,
     "metadata": {},
     "output_type": "execute_result"
    }
   ],
   "source": [
    "l=[]\n",
    "for i in d.items():\n",
    "    l.append(i[0])\n",
    "    l.append(i[1])\n",
    "l"
   ]
  },
  {
   "cell_type": "code",
   "execution_count": 112,
   "id": "f5c06788",
   "metadata": {},
   "outputs": [
    {
     "name": "stdout",
     "output_type": "stream",
     "text": [
      "Index of last 'a': 6\n"
     ]
    }
   ],
   "source": [
    "hars = [\"a\", \"a\", \"b\", \"b\", \"c\", \"c\", \"c\"]\n",
    "reversed_hars = hars[::-1]  # Reverse the list\n",
    "last_index = len(hars) - reversed_hars.index(\"c\") - 1\n",
    "\n",
    "print(\"Index of last 'a':\", last_index)"
   ]
  },
  {
   "cell_type": "markdown",
   "id": "95814c34",
   "metadata": {},
   "source": [
    "<aside>\n",
    "💡 **Question 6**\n",
    "\n",
    "Given two strings s and p, return *an array of all the start indices of* p*'s anagrams in* s. You may return the answer in **any order**.\n",
    "\n",
    "An **Anagram** is a word or phrase formed by rearranging the letters of a different word or phrase, typically using all the original letters exactly once.\n",
    "\n",
    "</aside>"
   ]
  },
  {
   "cell_type": "code",
   "execution_count": 132,
   "id": "ad142f97",
   "metadata": {},
   "outputs": [],
   "source": [
    "s = \"cbaebabacd\"\n",
    "p = \"abc\""
   ]
  },
  {
   "cell_type": "code",
   "execution_count": 133,
   "id": "20307127",
   "metadata": {},
   "outputs": [],
   "source": [
    "import itertools"
   ]
  },
  {
   "cell_type": "code",
   "execution_count": 138,
   "id": "16a2c223",
   "metadata": {},
   "outputs": [
    {
     "name": "stdout",
     "output_type": "stream",
     "text": [
      "bac\n",
      "cba\n"
     ]
    }
   ],
   "source": [
    "for i in itertools.permutations(p):\n",
    "    if ''.join(list(i)) in s:\n",
    "        print(''.join(list(i)))"
   ]
  },
  {
   "cell_type": "code",
   "execution_count": 148,
   "id": "29ffcf73",
   "metadata": {},
   "outputs": [],
   "source": [
    "def anagram(s,p):\n",
    "    l=[]\n",
    "    for i in itertools.permutations(p):\n",
    "        if ''.join(list(i)) in s:\n",
    "            l.append(s.index(''.join(list(i))))\n",
    "    return sorted(l)"
   ]
  },
  {
   "cell_type": "code",
   "execution_count": 149,
   "id": "95a2ce84",
   "metadata": {},
   "outputs": [
    {
     "data": {
      "text/plain": [
       "[0, 6]"
      ]
     },
     "execution_count": 149,
     "metadata": {},
     "output_type": "execute_result"
    }
   ],
   "source": [
    "anagram( s = \"cbaebabacd\", p = \"abc\")"
   ]
  },
  {
   "cell_type": "markdown",
   "id": "edd0b45c",
   "metadata": {},
   "source": [
    "<aside>\n",
    "💡 **Question 7**\n",
    "\n",
    "Given an encoded string, return its decoded string.\n",
    "\n",
    "The encoding rule is: k[encoded_string], where the encoded_string inside the square brackets is being repeated exactly k times. Note that k is guaranteed to be a positive integer.\n",
    "\n",
    "You may assume that the input string is always valid; there are no extra white spaces, square brackets are well-formed, etc. Furthermore, you may assume that the original data does not contain any digits and that digits are only for those repeat numbers, k. For example, there will not be input like 3a or 2[4].\n",
    "\n",
    "The test cases are generated so that the length of the output will never exceed 105.\n",
    "\n",
    "</aside>"
   ]
  },
  {
   "cell_type": "code",
   "execution_count": 180,
   "id": "33a227d2",
   "metadata": {},
   "outputs": [],
   "source": [
    "def decode_string(s):\n",
    "    stack = []\n",
    "    current_num = 0\n",
    "    current_string = \"\"\n",
    "\n",
    "    for char in s:\n",
    "        if char.isdigit():\n",
    "            current_num = current_num * 10 + int(char)\n",
    "        elif char == \"[\":\n",
    "            stack.append((current_string, current_num))\n",
    "            current_string = \"\"\n",
    "            current_num = 0\n",
    "        elif char == \"]\":\n",
    "            prev_string, num = stack.pop()\n",
    "            current_string = prev_string + current_string * num\n",
    "        else:\n",
    "            current_string += char\n",
    "\n",
    "    return current_string\n",
    "\n",
    "    \n",
    "\n",
    "    \n",
    "\n",
    "    "
   ]
  },
  {
   "cell_type": "code",
   "execution_count": 181,
   "id": "d88a6b87",
   "metadata": {},
   "outputs": [
    {
     "data": {
      "text/plain": [
       "'aaabcbc'"
      ]
     },
     "execution_count": 181,
     "metadata": {},
     "output_type": "execute_result"
    }
   ],
   "source": [
    "decode_string(s)"
   ]
  },
  {
   "cell_type": "markdown",
   "id": "64f0c1d8",
   "metadata": {},
   "source": [
    "<aside>\n",
    "💡 **Question 8**\n",
    "\n",
    "Given two strings s and goal, return true *if you can swap two letters in* s *so the result is equal to* goal*, otherwise, return* false*.*\n",
    "\n",
    "Swapping letters is defined as taking two indices i and j (0-indexed) such that i != j and swapping the characters at s[i] and s[j].\n",
    "\n",
    "- For example, swapping at indices 0 and 2 in \"abcd\" results in \"cbad\".\n",
    "</aside>"
   ]
  },
  {
   "cell_type": "code",
   "execution_count": 202,
   "id": "c02aa834",
   "metadata": {},
   "outputs": [],
   "source": [
    "def swap(s,goal):\n",
    "    S=list(s)\n",
    "    GOAL=list(goal)\n",
    "    for i,j in zip(range(len(GOAL)),list(S)):\n",
    "        GOAL[i]=j\n",
    "    if ''.join(GOAL)==s:\n",
    "        return True\n",
    "    else:\n",
    "        return False"
   ]
  },
  {
   "cell_type": "code",
   "execution_count": 203,
   "id": "b435bdfd",
   "metadata": {},
   "outputs": [
    {
     "data": {
      "text/plain": [
       "True"
      ]
     },
     "execution_count": 203,
     "metadata": {},
     "output_type": "execute_result"
    }
   ],
   "source": [
    "swap(\"abcd\",\"cbad\")"
   ]
  },
  {
   "cell_type": "code",
   "execution_count": 204,
   "id": "cb15f383",
   "metadata": {},
   "outputs": [
    {
     "data": {
      "text/plain": [
       "True"
      ]
     },
     "execution_count": 204,
     "metadata": {},
     "output_type": "execute_result"
    }
   ],
   "source": [
    "swap(\"ab\",\"ba\")"
   ]
  },
  {
   "cell_type": "code",
   "execution_count": null,
   "id": "3e0e6d3d",
   "metadata": {},
   "outputs": [],
   "source": []
  }
 ],
 "metadata": {
  "kernelspec": {
   "display_name": "Python 3 (ipykernel)",
   "language": "python",
   "name": "python3"
  },
  "language_info": {
   "codemirror_mode": {
    "name": "ipython",
    "version": 3
   },
   "file_extension": ".py",
   "mimetype": "text/x-python",
   "name": "python",
   "nbconvert_exporter": "python",
   "pygments_lexer": "ipython3",
   "version": "3.9.12"
  }
 },
 "nbformat": 4,
 "nbformat_minor": 5
}

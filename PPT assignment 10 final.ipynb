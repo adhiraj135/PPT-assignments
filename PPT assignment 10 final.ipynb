{
 "cells": [
  {
   "cell_type": "markdown",
   "id": "eab8b0c7",
   "metadata": {},
   "source": [
    "<aside>\n",
    "💡 **Question 1**\n",
    "\n",
    "Given an integer `n`, return *`true` if it is a power of three. Otherwise, return `false`*.\n",
    "\n",
    "An integer `n` is a power of three, if there exists an integer `x` such that `n == 3x`.\n",
    "\n",
    "</aside>"
   ]
  },
  {
   "cell_type": "code",
   "execution_count": 3,
   "id": "dfdfc804",
   "metadata": {},
   "outputs": [],
   "source": [
    "def is_power_3(n):\n",
    "    l=[]\n",
    "    for i in range(1,n):\n",
    "        if i**3==n:\n",
    "            l.append(i)\n",
    "    if len(l)==1:\n",
    "        return True\n",
    "    if len(l)==0:\n",
    "        return False"
   ]
  },
  {
   "cell_type": "code",
   "execution_count": 4,
   "id": "9bd17f23",
   "metadata": {},
   "outputs": [
    {
     "data": {
      "text/plain": [
       "True"
      ]
     },
     "execution_count": 4,
     "metadata": {},
     "output_type": "execute_result"
    }
   ],
   "source": [
    "is_power_3(27)"
   ]
  },
  {
   "cell_type": "code",
   "execution_count": 6,
   "id": "17f60c72",
   "metadata": {},
   "outputs": [
    {
     "data": {
      "text/plain": [
       "True"
      ]
     },
     "execution_count": 6,
     "metadata": {},
     "output_type": "execute_result"
    }
   ],
   "source": [
    "is_power_3(8)"
   ]
  },
  {
   "cell_type": "code",
   "execution_count": 7,
   "id": "3c07ea3e",
   "metadata": {},
   "outputs": [
    {
     "data": {
      "text/plain": [
       "True"
      ]
     },
     "execution_count": 7,
     "metadata": {},
     "output_type": "execute_result"
    }
   ],
   "source": [
    "is_power_3(8)"
   ]
  },
  {
   "cell_type": "markdown",
   "id": "6ec2615f",
   "metadata": {},
   "source": [
    "<aside>\n",
    "💡 **Question 2**\n",
    "\n",
    "You have a list `arr` of all integers in the range `[1, n]` sorted in a strictly increasing order. Apply the following algorithm on `arr`:\n",
    "\n",
    "- Starting from left to right, remove the first number and every other number afterward until you reach the end of the list.\n",
    "- Repeat the previous step again, but this time from right to left, remove the rightmost number and every other number from the remaining numbers.\n",
    "- Keep repeating the steps again, alternating left to right and right to left, until a single number remains.\n",
    "\n",
    "Given the integer `n`, return *the last number that remains in* `arr`.\n",
    "\n",
    "</aside>"
   ]
  },
  {
   "cell_type": "code",
   "execution_count": 30,
   "id": "3bfb7fa6",
   "metadata": {},
   "outputs": [],
   "source": [
    "def lastRemaining(n):\n",
    "    if n == 1:\n",
    "        return 1\n",
    "    else:\n",
    "        return 2 * (n // 2 + 1 - lastRemaining(n // 2))"
   ]
  },
  {
   "cell_type": "code",
   "execution_count": 31,
   "id": "dece3d85",
   "metadata": {},
   "outputs": [
    {
     "data": {
      "text/plain": [
       "6"
      ]
     },
     "execution_count": 31,
     "metadata": {},
     "output_type": "execute_result"
    }
   ],
   "source": [
    "lastRemaining(9)\n",
    "        "
   ]
  },
  {
   "cell_type": "code",
   "execution_count": 32,
   "id": "2ff0008e",
   "metadata": {},
   "outputs": [
    {
     "data": {
      "text/plain": [
       "8"
      ]
     },
     "execution_count": 32,
     "metadata": {},
     "output_type": "execute_result"
    }
   ],
   "source": [
    "lastRemaining(10)"
   ]
  },
  {
   "cell_type": "markdown",
   "id": "1a6a61f1",
   "metadata": {},
   "source": [
    "<aside>\n",
    "💡 **Question 3**\n",
    "\n",
    "****Given a set represented as a string, write a recursive code to print all subsets of it. The subsets can be printed in any order.\n",
    "**Example 1:**\n",
    "\n",
    "Input :  set = “abc”\n",
    "\n",
    "Output : { “”, “a”, “b”, “c”, “ab”, “ac”, “bc”, “abc”}\n",
    "\n",
    "**Example 2:**\n",
    "\n",
    "Input : set = “abcd”\n",
    "\n",
    "Output : { “”, “a” ,”ab” ,”abc” ,”abcd”, “abd” ,”ac” ,”acd”, “ad” ,”b”, “bc” ,”bcd” ,”bd” ,”c” ,”cd” ,”d” }\n",
    "</aside>"
   ]
  },
  {
   "cell_type": "code",
   "execution_count": 34,
   "id": "f1c4c0b7",
   "metadata": {},
   "outputs": [],
   "source": [
    "import itertools"
   ]
  },
  {
   "cell_type": "code",
   "execution_count": 67,
   "id": "23ad1dc9",
   "metadata": {},
   "outputs": [],
   "source": [
    "def subsets_of_str(s):\n",
    "    l=[]\n",
    "    l1=[]\n",
    "    for i in range(len(s)+1):\n",
    "        for i in itertools.combinations(s,i):\n",
    "            l.append(i)\n",
    "    for i in l:\n",
    "        l1.append(''.join(list(i)))\n",
    "    return ','.join(l1).replace(' ','\"')"
   ]
  },
  {
   "cell_type": "code",
   "execution_count": 68,
   "id": "52fd4baf",
   "metadata": {},
   "outputs": [
    {
     "data": {
      "text/plain": [
       "',a,b,c,ab,ac,bc,abc'"
      ]
     },
     "execution_count": 68,
     "metadata": {},
     "output_type": "execute_result"
    }
   ],
   "source": [
    "subsets_of_str(\"abc\")"
   ]
  },
  {
   "cell_type": "code",
   "execution_count": 69,
   "id": "5d72cbb1",
   "metadata": {},
   "outputs": [
    {
     "data": {
      "text/plain": [
       "',a,b,c,d,ab,ac,ad,bc,bd,cd,abc,abd,acd,bcd,abcd'"
      ]
     },
     "execution_count": 69,
     "metadata": {},
     "output_type": "execute_result"
    }
   ],
   "source": [
    "subsets_of_str(\"abcd\")"
   ]
  },
  {
   "cell_type": "code",
   "execution_count": 70,
   "id": "001410cc",
   "metadata": {},
   "outputs": [
    {
     "name": "stdout",
     "output_type": "stream",
     "text": [
      "['', 'a', 'ab', 'abc', 'ac', 'b', 'bc', 'c']\n"
     ]
    }
   ],
   "source": [
    "def generateSubsets(set_str):\n",
    "    subsets = []\n",
    "    backtrack(set_str, 0, '', subsets)\n",
    "    return subsets\n",
    "\n",
    "def backtrack(set_str, index, current_subset, subsets):\n",
    "    subsets.append(current_subset)\n",
    "\n",
    "    for i in range(index, len(set_str)):\n",
    "        backtrack(set_str, i + 1, current_subset + set_str[i], subsets)\n",
    "\n",
    "# Test the function\n",
    "set_str = \"abc\"\n",
    "print(generateSubsets(set_str)) "
   ]
  },
  {
   "cell_type": "markdown",
   "id": "591b810e",
   "metadata": {},
   "source": [
    "Q-4 Given a string calculate length of the string using recursion.\n"
   ]
  },
  {
   "cell_type": "code",
   "execution_count": 71,
   "id": "d770047e",
   "metadata": {},
   "outputs": [],
   "source": [
    "def len_str(s):\n",
    "    return len(s)"
   ]
  },
  {
   "cell_type": "code",
   "execution_count": 72,
   "id": "7e4a2a75",
   "metadata": {},
   "outputs": [
    {
     "data": {
      "text/plain": [
       "4"
      ]
     },
     "execution_count": 72,
     "metadata": {},
     "output_type": "execute_result"
    }
   ],
   "source": [
    "len_str(\"abcd\")"
   ]
  },
  {
   "cell_type": "code",
   "execution_count": 75,
   "id": "2afe3136",
   "metadata": {},
   "outputs": [
    {
     "data": {
      "text/plain": [
       "13"
      ]
     },
     "execution_count": 75,
     "metadata": {},
     "output_type": "execute_result"
    }
   ],
   "source": [
    "len_str(\"GEEKSFORGEEKS\")"
   ]
  },
  {
   "cell_type": "code",
   "execution_count": 76,
   "id": "c1e31578",
   "metadata": {},
   "outputs": [],
   "source": [
    "def calculateLength(string):\n",
    "    if string == '':\n",
    "        return 0\n",
    "    else:\n",
    "        return 1 + calculateLength(string[1:])\n"
   ]
  },
  {
   "cell_type": "code",
   "execution_count": 77,
   "id": "54853016",
   "metadata": {},
   "outputs": [
    {
     "data": {
      "text/plain": [
       "7"
      ]
     },
     "execution_count": 77,
     "metadata": {},
     "output_type": "execute_result"
    }
   ],
   "source": [
    "calculateLength(\"abcdefg\")"
   ]
  },
  {
   "cell_type": "markdown",
   "id": "5f1d4967",
   "metadata": {},
   "source": [
    "<aside>\n",
    "💡 **Question 5**\n",
    "\n",
    "We are given a string S, we need to find count of all contiguous substrings starting and ending with same character.\n",
    "\n",
    "</aside>"
   ]
  },
  {
   "cell_type": "code",
   "execution_count": 3,
   "id": "224bafda",
   "metadata": {},
   "outputs": [],
   "source": [
    "import itertools"
   ]
  },
  {
   "cell_type": "code",
   "execution_count": 4,
   "id": "77f7ef54",
   "metadata": {},
   "outputs": [],
   "source": [
    "def len_subsets_of_str(s):\n",
    "    l=[]\n",
    "    l1=[]\n",
    "    for i in range(1,len(s)+1):\n",
    "        for i in itertools.combinations(s,i):\n",
    "            l.append(i)\n",
    "    for i in l:\n",
    "        l1.append(''.join(list(i)))\n",
    "    return len(l1)"
   ]
  },
  {
   "cell_type": "code",
   "execution_count": 5,
   "id": "4adf3d51",
   "metadata": {},
   "outputs": [
    {
     "data": {
      "text/plain": [
       "15"
      ]
     },
     "execution_count": 5,
     "metadata": {},
     "output_type": "execute_result"
    }
   ],
   "source": [
    "len_subsets_of_str(\"abcd\")"
   ]
  },
  {
   "cell_type": "code",
   "execution_count": 6,
   "id": "9509a4bd",
   "metadata": {},
   "outputs": [
    {
     "data": {
      "text/plain": [
       "7"
      ]
     },
     "execution_count": 6,
     "metadata": {},
     "output_type": "execute_result"
    }
   ],
   "source": [
    "len_subsets_of_str(\"aba\")"
   ]
  },
  {
   "cell_type": "markdown",
   "id": "60633979",
   "metadata": {},
   "source": [
    "<aside>\n",
    "💡 **Question 7**\n",
    "\n",
    "Given a string **str**, the task is to print all the permutations of **str**. A **permutation** is an arrangement of all or part of a set of objects, with regard to the order of the arrangement. For instance, the words ‘bat’ and ‘tab’ represents two distinct permutation (or arrangements) of a similar three letter word.\n",
    "\n",
    "**Examples:**\n",
    "\n",
    "> Input: str = “cd”\n",
    "> \n",
    "> \n",
    "> **Output:** cd dc\n",
    "> \n",
    "> **Input:** str = “abb”\n",
    "> \n",
    "> **Output:** abb abb bab bba bab bba\n",
    "> \n",
    "</aside>"
   ]
  },
  {
   "cell_type": "code",
   "execution_count": 3,
   "id": "87a7e663",
   "metadata": {},
   "outputs": [],
   "source": [
    "import itertools"
   ]
  },
  {
   "cell_type": "code",
   "execution_count": 11,
   "id": "e484d8a4",
   "metadata": {},
   "outputs": [],
   "source": [
    "def subsets_of_str(s):\n",
    "    l=[]\n",
    "    l1=[]\n",
    "    for i in itertools.permutations(s,len(s)):\n",
    "            l.append(i)\n",
    "    for i in l:\n",
    "        l1.append(''.join(list(i)))\n",
    "    return l1"
   ]
  },
  {
   "cell_type": "code",
   "execution_count": 12,
   "id": "2df379f4",
   "metadata": {},
   "outputs": [
    {
     "data": {
      "text/plain": [
       "['cd', 'dc']"
      ]
     },
     "execution_count": 12,
     "metadata": {},
     "output_type": "execute_result"
    }
   ],
   "source": [
    "subsets_of_str(\"cd\")"
   ]
  },
  {
   "cell_type": "code",
   "execution_count": 13,
   "id": "540d6871",
   "metadata": {},
   "outputs": [
    {
     "data": {
      "text/plain": [
       "['abb', 'abb', 'bab', 'bba', 'bab', 'bba']"
      ]
     },
     "execution_count": 13,
     "metadata": {},
     "output_type": "execute_result"
    }
   ],
   "source": [
    "subsets_of_str(\"abb\")"
   ]
  },
  {
   "cell_type": "markdown",
   "id": "13ac74de",
   "metadata": {},
   "source": [
    "<aside>\n",
    "💡 **Question 7**\n",
    "\n",
    "Given a string **str**, the task is to print all the permutations of **str**. A **permutation** is an arrangement of all or part of a set of objects, with regard to the order of the arrangement. For instance, the words ‘bat’ and ‘tab’ represents two distinct permutation (or arrangements) of a similar three letter word.\n",
    "\n",
    "**Examples:**\n",
    "\n",
    "> Input: str = “cd”\n",
    "> \n",
    "> \n",
    "> **Output:** cd dc\n",
    "> \n",
    "> **Input:** str = “abb”\n",
    "> \n",
    "> **Output:** abb abb bab bba bab bba\n",
    "> \n",
    "</aside>"
   ]
  },
  {
   "cell_type": "code",
   "execution_count": 14,
   "id": "fa6bf06e",
   "metadata": {},
   "outputs": [],
   "source": [
    "def subsets_of_str(s):\n",
    "    l=[]\n",
    "    l1=[]\n",
    "    for i in itertools.permutations(s,len(s)):\n",
    "            l.append(i)\n",
    "    for i in l:\n",
    "        l1.append(''.join(list(i)))\n",
    "    return l1"
   ]
  },
  {
   "cell_type": "code",
   "execution_count": 15,
   "id": "0de3659f",
   "metadata": {},
   "outputs": [
    {
     "data": {
      "text/plain": [
       "['cd', 'dc']"
      ]
     },
     "execution_count": 15,
     "metadata": {},
     "output_type": "execute_result"
    }
   ],
   "source": [
    "subsets_of_str(\"cd\")"
   ]
  },
  {
   "cell_type": "code",
   "execution_count": 16,
   "id": "7692863f",
   "metadata": {},
   "outputs": [
    {
     "data": {
      "text/plain": [
       "['abb', 'abb', 'bab', 'bba', 'bab', 'bba']"
      ]
     },
     "execution_count": 16,
     "metadata": {},
     "output_type": "execute_result"
    }
   ],
   "source": [
    "subsets_of_str(\"abb\")"
   ]
  },
  {
   "cell_type": "markdown",
   "id": "c3d80b4b",
   "metadata": {},
   "source": [
    "<aside>\n",
    "💡 **Question 8**\n",
    "\n",
    "Given a string, count total number of consonants in it. A consonant is an English alphabet character that is not vowel (a, e, i, o and u). Examples of constants are b, c, d, f, and g.\n",
    "\n",
    "</aside>"
   ]
  },
  {
   "cell_type": "code",
   "execution_count": 21,
   "id": "66579220",
   "metadata": {},
   "outputs": [],
   "source": [
    "def consonants(s):\n",
    "    l=[]\n",
    "    vowels=\"aeiou\"\n",
    "    for i in s.replace(' ',''):\n",
    "        if i not in vowels:\n",
    "            l.append(i)\n",
    "    return len(l)"
   ]
  },
  {
   "cell_type": "code",
   "execution_count": 22,
   "id": "48c70ffe",
   "metadata": {},
   "outputs": [
    {
     "data": {
      "text/plain": [
       "3"
      ]
     },
     "execution_count": 22,
     "metadata": {},
     "output_type": "execute_result"
    }
   ],
   "source": [
    "consonants(\"abc de\")"
   ]
  },
  {
   "cell_type": "code",
   "execution_count": 24,
   "id": "3d61ce67",
   "metadata": {},
   "outputs": [
    {
     "data": {
      "text/plain": [
       "12"
      ]
     },
     "execution_count": 24,
     "metadata": {},
     "output_type": "execute_result"
    }
   ],
   "source": [
    "consonants(\"geeksforgeeks portal\")"
   ]
  },
  {
   "cell_type": "code",
   "execution_count": null,
   "id": "73340771",
   "metadata": {},
   "outputs": [],
   "source": []
  }
 ],
 "metadata": {
  "kernelspec": {
   "display_name": "Python 3 (ipykernel)",
   "language": "python",
   "name": "python3"
  },
  "language_info": {
   "codemirror_mode": {
    "name": "ipython",
    "version": 3
   },
   "file_extension": ".py",
   "mimetype": "text/x-python",
   "name": "python",
   "nbconvert_exporter": "python",
   "pygments_lexer": "ipython3",
   "version": "3.9.12"
  }
 },
 "nbformat": 4,
 "nbformat_minor": 5
}
